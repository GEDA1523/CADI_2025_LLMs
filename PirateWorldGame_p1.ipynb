{
 "cells": [
  {
   "cell_type": "markdown",
   "id": "5ac6b5d5-fce7-4fcb-b1a8-c490ea5c5325",
   "metadata": {
    "id": "173e06c5-4b07-4e3b-a67a-5c3e141beb2c"
   },
   "source": [
    "# AI Powered Game\n",
    "\n",
    "Esta práctica es una adaptación del contenido del curso:\n",
    "\n",
    "https://learn.deeplearning.ai/courses/building-an-ai-powered-game/lesson/1/introduction\n",
    "\n",
    "\n",
    "usando langchain y llama 3.2\n",
    "\n",
    "\n",
    "**Con esta práctica aprenderás:**\n",
    "\n",
    "- Dar la estructura deseada a la respuesta del modelo\n",
    "- Guardar la información para su uso posterior \n"
   ]
  },
  {
   "cell_type": "markdown",
   "id": "ac19c917-fe0b-4140-abc4-33d6b3972aaa",
   "metadata": {
    "id": "173e06c5-4b07-4e3b-a67a-5c3e141beb2c"
   },
   "source": [
    "## Creating a Pirate World"
   ]
  },
  {
   "cell_type": "code",
   "execution_count": 1,
   "id": "6d2d7e0e",
   "metadata": {},
   "outputs": [],
   "source": [
    " # install this version: pip install langchain_ollama 'ollama<0.4.0' "
   ]
  },
  {
   "cell_type": "code",
   "execution_count": 5,
   "id": "79ee5b58",
   "metadata": {},
   "outputs": [],
   "source": [
    "from langchain_core.messages import HumanMessage, SystemMessage\n",
    "from langchain_ollama import ChatOllama\n",
    "from langchain_core.output_parsers import StrOutputParser\n",
    "from langchain_core.prompts import ChatPromptTemplate\n",
    "from langchain_core.output_parsers import JsonOutputParser\n",
    "from langchain_core.prompts import PromptTemplate\n",
    "from langchain_core.pydantic_v1 import BaseModel, Field"
   ]
  },
  {
   "cell_type": "code",
   "execution_count": null,
   "id": "e9692c20",
   "metadata": {},
   "outputs": [],
   "source": [
    "class World(BaseModel):\n",
    "    WorldName: str = Field(description=\"name of the world\")\n",
    "    WorldDesc: str = Field(description=\"description of the world\")\n",
    "    "
   ]
  },
  {
   "cell_type": "code",
   "execution_count": 51,
   "id": "2788f233",
   "metadata": {},
   "outputs": [],
   "source": [
    "world_prompt = f\"\"\"\n",
    "Generate a creative description for a unique fantasy world with an\n",
    "interesting concept around pirates, ships, sea and treasures. Create a world, giving it a name and a description. Write in spanish always.\n",
    "\n",
    "\"\"\""
   ]
  },
  {
   "cell_type": "code",
   "execution_count": 52,
   "id": "4cc0b2d3",
   "metadata": {},
   "outputs": [],
   "source": [
    "local_llm = 'llama3.2'\n",
    "llm = ChatOllama(model=local_llm, temperature=1)\n",
    "parser = JsonOutputParser(pydantic_object=World)\n",
    "prompt = PromptTemplate(\n",
    "    template=\"Answer the user query.\\n{format_instructions}\\n{query}\\n\",\n",
    "    input_variables=[\"query\"],\n",
    "    partial_variables={\"format_instructions\": parser.get_format_instructions()},\n",
    ")\n",
    "\n",
    "chain = prompt | llm | parser\n",
    "\n",
    "result_world=chain.invoke({\"query\": world_prompt})"
   ]
  },
  {
   "cell_type": "code",
   "execution_count": 58,
   "id": "8631dfa6",
   "metadata": {},
   "outputs": [
    {
     "data": {
      "text/plain": [
       "'un mundo de maravillas y peligros en el vasto océano azul'"
      ]
     },
     "execution_count": 58,
     "metadata": {},
     "output_type": "execute_result"
    }
   ],
   "source": [
    "result_world['properties']['TerraMarea']['description']"
   ]
  },
  {
   "cell_type": "code",
   "execution_count": 59,
   "id": "c76ca84b",
   "metadata": {},
   "outputs": [],
   "source": [
    "world = {\n",
    "    \"name\": result_world['properties']['TerraMarea']['title'],\n",
    "    \"description\": result_world['properties']['TerraMarea']['description']\n",
    "}"
   ]
  },
  {
   "cell_type": "code",
   "execution_count": null,
   "id": "81d343bc",
   "metadata": {},
   "outputs": [],
   "source": [
    "island_prompt = f\"\"\"\n",
    "Create three islands in a fantasy pirates world, giving them a name and a description.\n",
    "\"\"\""
   ]
  },
  {
   "cell_type": "code",
   "execution_count": 67,
   "id": "970dda65",
   "metadata": {},
   "outputs": [],
   "source": [
    "class Island(BaseModel):\n",
    "    IslandName: str = Field(description=\"name of the island\")\n",
    "    IslandDesc: str = Field(description=\"description of the island\")\n",
    "    "
   ]
  },
  {
   "cell_type": "code",
   "execution_count": 68,
   "id": "12c0718f",
   "metadata": {},
   "outputs": [],
   "source": [
    "parser2 = JsonOutputParser(pydantic_object=Island)\n",
    "prompt = PromptTemplate(\n",
    "    template=\"Answer the user query.\\n{format_instructions}\\n{query}\\n\",\n",
    "    input_variables=[\"query\"],\n",
    "    partial_variables={\"format_instructions\": parser2.get_format_instructions()},\n",
    ")\n",
    "\n",
    "chain = prompt | llm | parser\n",
    "\n",
    "result_island=chain.invoke({\"query\": island_prompt})"
   ]
  },
  {
   "cell_type": "code",
   "execution_count": 84,
   "id": "f6b8c799",
   "metadata": {},
   "outputs": [],
   "source": [
    "islands = {}\n",
    "for i in range(3):\n",
    "    name = result_island['properties']['IslandName'][i]\n",
    "    desc = result_island['properties']['IslandDesc'][i]\n",
    "    island = {\n",
    "      \"name\": name,\n",
    "      \"description\": desc,\n",
    "      \"world\": world['name']\n",
    "    }\n",
    "    islands[name] = island\n",
    "world['islands']=islands    \n"
   ]
  },
  {
   "cell_type": "code",
   "execution_count": null,
   "id": "581a6954",
   "metadata": {},
   "outputs": [],
   "source": [
    "town_prompt = f\"\"\"\n",
    "Create three towns for a fantasy pirate world named {world['name']}. \n",
    "\"\"\""
   ]
  },
  {
   "cell_type": "code",
   "execution_count": 110,
   "id": "eb6076ab",
   "metadata": {},
   "outputs": [],
   "source": [
    "class Town(BaseModel):\n",
    "    TownName: str = Field(description=\"name of the town\")\n",
    "    TownDesc: str = Field(description=\"description of the town\")\n",
    "    "
   ]
  },
  {
   "cell_type": "code",
   "execution_count": 111,
   "id": "bd3ed60f",
   "metadata": {},
   "outputs": [],
   "source": [
    "parser3 = JsonOutputParser(pydantic_object=Town)\n",
    "prompt = PromptTemplate(\n",
    "    template=\"Answer the user query.\\n{format_instructions}\\n{query}\\n\",\n",
    "    input_variables=[\"query\"],\n",
    "    partial_variables={\"format_instructions\": parser3.get_format_instructions()},\n",
    "    )\n",
    "\n",
    "chain = prompt | llm | parser\n",
    "result_town=chain.invoke({\"query\": town_prompt})\n"
   ]
  },
  {
   "cell_type": "code",
   "execution_count": 112,
   "id": "1ef5ad9e",
   "metadata": {},
   "outputs": [
    {
     "data": {
      "text/plain": [
       "[{'properties': {'TownName': {'title': 'Isle Royale',\n",
       "    'description': 'a kingdom of pirates and treasure hunters',\n",
       "    'type': 'string'},\n",
       "   'TownDesc': {'title': 'Royal Isle',\n",
       "    'description': 'the home to the Pirate King',\n",
       "    'type': 'string'}},\n",
       "  'required': ['TownName', 'TownDesc']},\n",
       " {'properties': {'TownName': {'title': 'Village of Corsairs',\n",
       "    'description': 'a free city, ruled by its own pirate council',\n",
       "    'type': 'string'},\n",
       "   'TownDesc': {'title': \"Corsair's Haven\",\n",
       "    'description': 'the place where pirates set sail from',\n",
       "    'type': 'string'}},\n",
       "  'required': ['TownName', 'TownDesc']},\n",
       " {'properties': {'TownName': {'title': 'Hidden Cove',\n",
       "    'description': 'a small island village',\n",
       "    'type': 'string'},\n",
       "   'TownDesc': {'title': 'Cove of Dreams',\n",
       "    'description': 'the place where pirates find solace and peace',\n",
       "    'type': 'string'}},\n",
       "  'required': ['TownName', 'TownDesc']}]"
      ]
     },
     "execution_count": 112,
     "metadata": {},
     "output_type": "execute_result"
    }
   ],
   "source": [
    "result_town"
   ]
  },
  {
   "cell_type": "markdown",
   "id": "4465a4e6",
   "metadata": {},
   "source": []
  },
  {
   "cell_type": "markdown",
   "id": "764a433b-5e04-4980-a9b0-4d336113f072",
   "metadata": {},
   "source": [
    "## Save the World\n"
   ]
  },
  {
   "cell_type": "code",
   "execution_count": null,
   "id": "1a4204a0",
   "metadata": {},
   "outputs": [],
   "source": []
  },
  {
   "cell_type": "code",
   "execution_count": 39,
   "id": "2dce3195-2c76-42da-9e49-c7a17e5ab08b",
   "metadata": {
    "height": 233
   },
   "outputs": [],
   "source": [
    "import json\n",
    "\n",
    "def save_world(world, filename):\n",
    "    with open(filename, 'w') as f:\n",
    "        json.dump(world, f)\n",
    "\n",
    "def load_world(filename):\n",
    "    with open(filename, 'r') as f:\n",
    "        return json.load(f)\n",
    "\n",
    "save_world(result_world, 'PirateWorld.json') "
   ]
  },
  {
   "cell_type": "code",
   "execution_count": null,
   "id": "f64fc076-32b5-41ca-b755-6ccbd52347c0",
   "metadata": {
    "height": 29
   },
   "outputs": [],
   "source": []
  }
 ],
 "metadata": {
  "kernelspec": {
   "display_name": "Python 3",
   "language": "python",
   "name": "python3"
  },
  "language_info": {
   "codemirror_mode": {
    "name": "ipython",
    "version": 3
   },
   "file_extension": ".py",
   "mimetype": "text/x-python",
   "name": "python",
   "nbconvert_exporter": "python",
   "pygments_lexer": "ipython3",
   "version": "3.13.0"
  }
 },
 "nbformat": 4,
 "nbformat_minor": 5
}
