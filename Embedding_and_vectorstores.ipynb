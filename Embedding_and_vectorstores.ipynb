{
 "cells": [
  {
   "metadata": {},
   "cell_type": "markdown",
   "source": [
    "### Word Embeddings\n",
    "\n",
    "En esencia, las representaciones de palabras (word embeddings) son representaciones numéricas de datos del mundo real como texto, imágenes, voz o video. Se expresan como vectores de baja dimensionalidad, donde las distancias geométricas de dos vectores en el espacio vectorial son una proyección de las relaciones entre los dos objetos del mundo real que los vectores representan. En otras palabras, te ayudan a proporcionar una representación compacta de datos de diferentes tipos, mientras que simultáneamente te permiten comparar dos objetos de datos diferentes y decir cuán similares o diferentes son en una escala numérica.\n",
    "\n",
    "Estas representaciones de baja dimensionalidad de datos del mundo real ayudan significativamente a un procesamiento y almacenamiento de datos a gran escala de manera eficiente, actuando como un medio de compresión con pérdida de los datos originales mientras se conservan sus propiedades importantes.\n",
    "\n",
    "Los \"word embeddings\" se construyen con diferentes técnica y con modelos de aprendizaje automático, generalmente se pueden usar los word embeddings creados por ChatGPT (OpenAI), Google AI etc.\n",
    "\n",
    "\n",
    "\n"
   ],
   "id": "26c4d51f6023772c"
  },
  {
   "cell_type": "code",
   "id": "initial_id",
   "metadata": {
    "collapsed": true,
    "ExecuteTime": {
     "end_time": "2024-12-04T14:31:42.439865Z",
     "start_time": "2024-12-04T14:31:39.886605Z"
    }
   },
   "source": [
    "from PyPDF2 import PdfReader\n",
    "from langchain.text_splitter import CharacterTextSplitter, RecursiveCharacterTextSplitter\n",
    "from langchain.vectorstores import DocArrayInMemorySearch\n",
    "from langchain.document_loaders import TextLoader, PyPDFLoader\n",
    "from langchain_community.vectorstores import FAISS\n",
    "from dotenv import load_dotenv\n",
    "from langchain_experimental.text_splitter import SemanticChunker\n",
    "import os\n",
    "from langchain.embeddings import OllamaEmbeddings\n",
    "import pdfplumber\n",
    "from langchain_community.embeddings import HuggingFaceInstructEmbeddings\n",
    "from InstructorEmbedding import INSTRUCTOR\n"
   ],
   "outputs": [
    {
     "name": "stderr",
     "output_type": "stream",
     "text": [
      "/Users/elisabetta/PycharmProjects/CADI_2025_llm/venv/lib/python3.9/site-packages/urllib3/__init__.py:35: NotOpenSSLWarning: urllib3 v2 only supports OpenSSL 1.1.1+, currently the 'ssl' module is compiled with 'LibreSSL 2.8.3'. See: https://github.com/urllib3/urllib3/issues/3020\n",
      "  warnings.warn(\n",
      "/Users/elisabetta/PycharmProjects/CADI_2025_llm/venv/lib/python3.9/site-packages/InstructorEmbedding/instructor.py:7: TqdmWarning: IProgress not found. Please update jupyter and ipywidgets. See https://ipywidgets.readthedocs.io/en/stable/user_install.html\n",
      "  from tqdm.autonotebook import trange\n"
     ]
    }
   ],
   "execution_count": 1
  },
  {
   "metadata": {},
   "cell_type": "markdown",
   "source": [
    "### Text embeddings \n",
    "\n"
   ],
   "id": "68f34c170b8d61dd"
  },
  {
   "metadata": {
    "ExecuteTime": {
     "end_time": "2024-12-04T14:31:51.015235Z",
     "start_time": "2024-12-04T14:31:47.626375Z"
    }
   },
   "cell_type": "code",
   "source": [
    "embeddings = HuggingFaceInstructEmbeddings(model_name='hkunlp/instructor-xl')\n",
    "#embeddings = OllamaEmbeddings()\n"
   ],
   "id": "de811181f589a1c7",
   "outputs": [
    {
     "name": "stdout",
     "output_type": "stream",
     "text": [
      "load INSTRUCTOR_Transformer\n",
      "max_seq_length  512\n"
     ]
    },
    {
     "name": "stderr",
     "output_type": "stream",
     "text": [
      "/Users/elisabetta/PycharmProjects/CADI_2025_llm/venv/lib/python3.9/site-packages/sentence_transformers/models/Dense.py:63: FutureWarning: You are using `torch.load` with `weights_only=False` (the current default value), which uses the default pickle module implicitly. It is possible to construct malicious pickle data which will execute arbitrary code during unpickling (See https://github.com/pytorch/pytorch/blob/main/SECURITY.md#untrusted-models for more details). In a future release, the default value for `weights_only` will be flipped to `True`. This limits the functions that could be executed during unpickling. Arbitrary objects will no longer be allowed to be loaded via this mode unless they are explicitly allowlisted by the user via `torch.serialization.add_safe_globals`. We recommend you start setting `weights_only=True` for any use case where you don't have full control of the loaded file. Please open an issue on GitHub for any issues related to this experimental feature.\n",
      "  model.load_state_dict(torch.load(os.path.join(input_path, 'pytorch_model.bin'), map_location=torch.device('cpu')))\n"
     ]
    }
   ],
   "execution_count": 2
  },
  {
   "metadata": {},
   "cell_type": "markdown",
   "source": [
    "### Vectorstore\n",
    "\n",
    "Los embeddings se guardan en databases especiales (aquí se usa FAISS) que permiten almacenar y extraer de manera eficiente la información de los embeddings, comparando  el significado semántico de los queries con el significado semántico de las palabras almacenadas en los embeddings."
   ],
   "id": "fe80bf94cddd3a4b"
  },
  {
   "metadata": {},
   "cell_type": "markdown",
   "source": "### Carga y lee el documento pdf",
   "id": "1ad801414caa05a8"
  },
  {
   "metadata": {
    "ExecuteTime": {
     "end_time": "2024-12-04T14:31:59.478646Z",
     "start_time": "2024-12-04T14:31:59.476090Z"
    }
   },
   "cell_type": "code",
   "source": "pdf_path=\"PeterPan.pdf\"",
   "id": "ffd567c46dd02604",
   "outputs": [],
   "execution_count": 3
  },
  {
   "metadata": {
    "ExecuteTime": {
     "end_time": "2024-12-04T14:32:01.865069Z",
     "start_time": "2024-12-04T14:32:01.723187Z"
    }
   },
   "cell_type": "code",
   "source": [
    "text =''\n",
    "with open(pdf_path,'rb') as file:\n",
    "    pdf_reader = PdfReader(file)\n",
    "    for page in pdf_reader.pages:\n",
    "        text += page.extract_text()\n"
   ],
   "id": "1098989cedb45615",
   "outputs": [],
   "execution_count": 4
  },
  {
   "metadata": {
    "ExecuteTime": {
     "end_time": "2024-12-04T14:32:03.705858Z",
     "start_time": "2024-12-04T14:32:03.703367Z"
    }
   },
   "cell_type": "code",
   "source": "print(text)",
   "id": "6699b105d9d5a808",
   "outputs": [
    {
     "name": "stdout",
     "output_type": "stream",
     "text": [
      "Hace tiempo, allá por 1880, vivía en la ciudad de Londres la familia Darling. Estaba \n",
      "formada por el señor y la señora Darling y sus hijos: Wendy, Michael y John. Sin \n",
      "olvidarnos de Nana, por supuesto, el perro niñera.  \n",
      " \n",
      "Vivían felices y tranquilos hasta que Peter Pan llegó a sus vidas. Todo comenzó la \n",
      "noche en que Nana tenía el día libre y la señora Darling se quedó a cargo de sus hijos. \n",
      "Cuando todos, incluida ella, estuvieron dormidos el muchacho entró por la ventana. \n",
      "Pero entonces ella se despertó  y se asustó tanto al verle que lanzó un fuerte grito. \n",
      "Entonces apareció Nana, que cerró la ventana para evitar que saliera y acabó \n",
      "atrapando su sombra. Y así fue como la sombra de Peter Pan acabó en un cajón de la \n",
      "casa de los Darling.  \n",
      " \n",
      "Una noche el señor y la señora Darling salieron a cenar a casa de los vecinos del \n",
      "número 27. Los niños se quedaron en casa al cuidado de Nana y no tardaron en \n",
      "quedarse todos dormidos.  \n",
      "Pero cuando la casa estaba en silencio, entró una diminuta hada revoloteando a gran \n",
      "velocidad y tras ella, Peter Pan, dispuesto a recuperar su sombra. La encontró en el \n",
      "cajón en el que la había guardado Nana pero se entristeció mucho cuando comprobó \n",
      "que la sombra no le seguía. Probó a pegársela con jabón pero no dio resultado y \n",
      "desesperado se se ntó en el suelo a llorar.  \n",
      " \n",
      "- ¿Quién está llorando? - preguntó Wendy, a quien despertaron los sollozos.  \n",
      "- Soy yo - contestó Peter  \n",
      "- ¿Cómo te llamas? - preguntó la niña, aunque ella estaba casi segura de saber quien \n",
      "era \n",
      "- Peter Pan  \n",
      "- ¿Y qué te pasa Peter?  \n",
      "- Que no consigo que mi sombra se me quede pegada  \n",
      "- Tranquilo. Creo que podré cosértela  \n",
      " \n",
      "Wendy ayudó a Peter y mientras los dos niños comenzaron a hacerse amigos.  \n",
      " \n",
      "- Yo vivo en el País de Nunca Jamás. Es maravilloso, allí eres siempre un niño y no \n",
      "tienes que  obedecer a nadie. Conmigo viven los Niños perdidos, ya sabes, los niños \n",
      "que caen de los carritos cuando la niñera mira a otro lado. Además hay piratas, \n",
      "hadas, indios y toda clase de seres.  \n",
      " \n",
      "Peter decía que era muy feliz allí aunque reconoció que a él y a los Niños perdidos les \n",
      "gustaría que hubiese alguien que les contara cuentos como hacía ella con sus \n",
      "hermanos. Peter le propuso ir con él al País de Nunca Jamás y a Wendy le pareció de \n",
      "inmediato una idea maravillosa.  \n",
      " \n",
      "- Pero, ¿y mis hermanos? ¿pueden venir ellos también?  \n",
      "- Si tu quieres, ¡claro!  - ¡Estupendo!  \n",
      " \n",
      "Wendy despertó a Michael y John y Peter para iniciar su viaje. Pero antes de partir \n",
      "Peter les explicó que debían aprender a volar. Les echó un poco de polvo de hada por \n",
      "encima y enseguida los tres niños comenzaron a elevarse por el aire. A t odos les \n",
      "pareció muy divertido y comenzaron a dar vueltas y más vueltas por la casa. Armaron \n",
      "tal revuelo que acabaron despertando a Nana.  \n",
      " \n",
      "Peter la oyó venir así que pudieron volver a sus camas rápidamente como si no \n",
      "hubiese pasado nada. Así, cuando la niñ era entró en la habitación creyó que los tres \n",
      "dormían plácidamente.  \n",
      " \n",
      "Pero Nana estaba intranquila y estaba casi segura de que algo raro estaba ocurriendo \n",
      "en el cuarto de los niños, de modo que corrió a avisar a los señores Darling. Pero \n",
      "cuando volvieron, l os niños ya no estaban. Los tres habían partido rumbo a Nunca \n",
      "Jamás nerviosos e ilusionados por vivir aquella fantástica aventura.  \n",
      " \n",
      "Volaron durante días atravesando océanos pero al final llegaron al país de Nunca \n",
      "Jamas.  \n",
      " \n",
      "Al primero que vieron desde el aire  fue al temible capitán Garfio, el peor enemigo de \n",
      "Peter Pan. En una lucha hacía tiempo Peter había logrado arrebatarle la mano \n",
      "derecha y por eso el pirata llevaba en su lugar ahora un garfio. Pero lo manejaba \n",
      "perfectamente y eso, unido a sus ganas de veng anza, lo hacían muy peligroso. \n",
      "Aunque había algo a lo que el capitán Garfio tenía miedo: el cocodrilo. Una vez estuvo \n",
      "a punto de comérselo y por eso ahora no quería otra cosa que no fuese él. Menos mal \n",
      "que el capitán le arrojó un reloj y por eso ahora hací a tic-tac cada vez que se \n",
      "acercaba.  \n",
      " \n",
      "Llegaron hasta el lugar donde estaban los Niños perdidos. Pero Campanilla, que \n",
      "estaba muy celosa de Wendy porque estaba todo el tiempo junto a Peter, se adelantó \n",
      "para tramar algo.  \n",
      " \n",
      "- Peter dice que ataqueis a Wendy - le dijo a los Niños perdidos.  \n",
      "- ¡De acuerdo! - contestaron todos al unísono corriendo a por sus arcos y flechas  \n",
      " \n",
      "Así que los niños comenzaron a disparar sus arcos y flechas hacia Wendy y sus \n",
      "hermanos. Pero afortunadamente no les pasó nada.  \n",
      " \n",
      "En cuanto llegó P eter detrás de todos les echó una gran bronca.  \n",
      " \n",
      "- ¿Pero qué hacéis? ¡Encima que os traigo a una madre para que os cuente cuentos la \n",
      "recibís así!  \n",
      " Los Niños perdidos, que iban vestidos con las pieles de los osos que cazaban, se \n",
      "disculparon y Peter les presentó a Wendy y a los demás.  \n",
      " \n",
      "- Estos son Tootles, Slightly, Nibs, Curly y los gemelos  \n",
      "- Hola - contestó la muchacha - Estos son mis hermanos Michae l y John y yo soy \n",
      "Wendy.  \n",
      " \n",
      "Wendy y sus hermanos decidieron quedarse allí y junto con los Niños perdidos y Peter \n",
      "formaron una gran familia que vivía feliz en su guarida subterránea.  \n",
      " \n",
      "Un día estaban los niños jugando en la laguna de las sirenas, concretamente  en la \n",
      "Roca de los Desamparados, cuando sucedió algo extraño. De repente el Sol \n",
      "desapareció por completo, se hizo de noche y entre las sombras apareció un bote \n",
      "con dos de los piratas de Garfio, Smee y Starkey, que llevaban como prisionera a la \n",
      "princesa ind ia Tigridia. Peter, Wendy y los demás se escondieron y vieron como \n",
      "arrojaban a Tigridia sobre la Roca de los Desamparados. Entonces a Peter se le \n",
      "ocurrió una idea.  \n",
      " \n",
      "- ¡Soltadla! - dijo a los piratas imitando la voz del capitán Garfio  \n",
      "- ¿Capitán? - dijeron los dos piratas mirando a todos los lados  \n",
      "- ¡Ya me habéis oído! ¡Hacedlo!  \n",
      " \n",
      "Así que los piratas cortaron las cuerdas que apresaban a la princesa. Entonces \n",
      "apareció por la laguna el capitán Garfio a bordo de su barco. Iba para contarles que \n",
      "sabía que los Niñ os perdidos habían encontrado una madre y de ninguna manera \n",
      "podían permitirlo.  \n",
      " \n",
      "- Los raptaremos, los obligaremos a lanzarse por la borda y Wendy se convertirá en \n",
      "nuestra madre.  \n",
      "- ¡Sí! ¡Es una idea estupenda capitán!, contestaron Smee y Starkey  \n",
      " \n",
      "Wendy se q uedó pálida al oír aquello y Peter, que no aguantó más callado, de nuevo \n",
      "imitó la voz de Garfio. Pero esta vez el pirata fue más listo que en otras ocasiones y \n",
      "supo que se trataba de Peter Pan. Lo encontró y luchó contra él hasta que logró \n",
      "herirlo con su g arfio, mientras los niños escapaban en el bote. Wendy se salvó gracias \n",
      "a la ayuda de las sirenas y a la cometa que Michael había perdido unos días antes y \n",
      "que apareció por allí, mientras que Peter logró sobrevivir gracias a la ayuda de la \n",
      "pájara de Nunca J amás.  \n",
      " \n",
      "Aquella aventura hizo que Peter se hiciera muy amigo de los indios pieles rojas, pues \n",
      "le estaban agradecidos por haber salvado a la princesa Tigridia y prometieron \n",
      "defenderlo con sus arcos y flechas del ataque de los piratas.  \n",
      " \n",
      "Una noche estaba Wendy  contando a los niños su cuento de antes de ir a dormir cuando habló de las madres, de lo buenas y atentas que son con sus hijos. Peter no \n",
      "estuvo de acuerdo con las ideas de Wendy y discutió con ella y al mismo tiempo los \n",
      "hermanos de la muchacha empezaron a sentir nostalgia por lo que entre todos \n",
      "decidieron que  había llegado el momento de volver a casa.  \n",
      " \n",
      "- Nos iremos esta misma noche - contestó tajante Wendy  \n",
      " \n",
      "Los Niños perdidos se sintieron muy tristes al oír esto y decidieron que se irían con \n",
      "ella. No así Peter, que de ninguna manera quería abandonar el país de  Nunca Jamás. \n",
      "Al menos se preocupó porque Campanilla y los pieles rojas acompañaran a los niños \n",
      "por el bosque en su camino de vuelta a Inglaterra.  \n",
      " \n",
      "Pero en su camino de vuelta surgieron nuevas complicaciones. Los piratas estaban al \n",
      "corriente de que iban a pasar por allí y los esperaban encaramados a los árboles del \n",
      "bosque. Los niños, y tampoco Peter Pan, se podían esperar algo así, así que los \n",
      "cogieron desprevenidos.  \n",
      " \n",
      "Mientras tanto Garfio acudió a la guarida secreta de Peter, donde el muchacho \n",
      "pasaba el ti empo en soledad haciendo ver que no le importaba haberse quedado \n",
      "solo. El pirata y se escondió dentro de un tronco y esperó a que Peter se durmiera para \n",
      "echar en un vaso que tenía el muchacho junto a su cama un poco del veneno secreto \n",
      "y mortal que siempre llevaba consigo. Esta vez conseguiría acabar con él.  \n",
      " \n",
      "Pero en mitad de la noche Campanilla llegó para contarle a Peter lo ocurrido y \n",
      "advertirle de que sabía que el capitán Garfio le había echado veneno en su vaso. Así \n",
      "que Peter salió veloz con sus armas di spuesto a rescatar a los niños.  \n",
      " \n",
      "Peter llegó hasta el barco de los piratas, el Jolly Roger, un barco siniestro en el que los \n",
      "niños estaban a punto de ser obligados a saltar por la pasarela al mar.  \n",
      " \n",
      "Los piratas estaban atando a Wendy al palo mayor en ese mo mento cuando de \n",
      "repente sonó algo que nadie esperaba... Tic- tac, tic-tac, tic-tac...  \n",
      " \n",
      "- ¡Es ese maldito cocodrilo! ¡Rápido Smee escóndeme! ¡No dejes que me coja! - gritó \n",
      "Garfio preso del pánico  \n",
      " \n",
      "Pero allí no había ningún cocodrilo, era Peter, que hábilment e se había hecho pasar \n",
      "por él. en cuanto Garfio fue a su camarote a esconderse Peter apareció en la cubierta \n",
      "del barco de un salto y empezó a acabar con los piratas uno por uno. Pero desde sus \n",
      "aposentos Garfio dejó de oír el tic -tac y creyó que el cocodrilo hab ía huido y podía \n",
      "salir de nuevo.  \n",
      " \n",
      "Al salir Garfio se encontró con varios piratas muertos. Nadie sabía qué había ocurrido \n",
      "exactamente así que todos empezaron a pensar que el barco estaba maldito pues ya se sabe que los piratas son algo supersticiosos. Estaban a punto de lanzar a Wendy \n",
      "por la borda convencidos de que era ella quien atraía a la mala suerte, cuando Peter \n",
      "salió de su escondrijo para evitarlo.  \n",
      " \n",
      "- ¡Joven descarado, prepárate para morir! – dijo Garfio  \n",
      "- ¡De eso nada maldito capitán Garfio! ¡No es mi hora sino la tuya! - contestó el \n",
      "valiente Peter Pan  \n",
      " \n",
      "Se enzarzaron en una violenta lucha de espadas y al final Garfio acabó gravemente \n",
      "herido en las costillas, tanto, que no vio salida y decidió lanza rse por la borda sin \n",
      "saber que el cocodrilo lo estaba  \n",
      " \n",
      " \n",
      " \n"
     ]
    }
   ],
   "execution_count": 5
  },
  {
   "metadata": {},
   "cell_type": "markdown",
   "source": "### Divide el texto ",
   "id": "18e973d9f166748b"
  },
  {
   "metadata": {
    "ExecuteTime": {
     "end_time": "2024-12-04T14:32:07.012895Z",
     "start_time": "2024-12-04T14:32:07.010001Z"
    }
   },
   "cell_type": "code",
   "source": [
    "#text_splitter=SemanticChunker(embeddings, breakpoint_threshold_type=\"percentile\")\n",
    "text_splitter = RecursiveCharacterTextSplitter(chunk_size=1000, chunk_overlap=150)"
   ],
   "id": "25353da34d30a4e8",
   "outputs": [],
   "execution_count": 6
  },
  {
   "metadata": {
    "ExecuteTime": {
     "end_time": "2024-12-04T14:32:09.236510Z",
     "start_time": "2024-12-04T14:32:09.232542Z"
    }
   },
   "cell_type": "code",
   "source": [
    "docs = text_splitter.split_text(text)\n",
    "    \n"
   ],
   "id": "f4d1b1164806d725",
   "outputs": [],
   "execution_count": 7
  },
  {
   "metadata": {
    "ExecuteTime": {
     "end_time": "2024-12-04T14:32:11.789386Z",
     "start_time": "2024-12-04T14:32:11.783638Z"
    }
   },
   "cell_type": "code",
   "source": "type(docs)",
   "id": "3c4fabf18c61c53c",
   "outputs": [
    {
     "data": {
      "text/plain": [
       "list"
      ]
     },
     "execution_count": 8,
     "metadata": {},
     "output_type": "execute_result"
    }
   ],
   "execution_count": 8
  },
  {
   "metadata": {
    "ExecuteTime": {
     "end_time": "2024-12-04T14:32:14.623608Z",
     "start_time": "2024-12-04T14:32:14.619041Z"
    }
   },
   "cell_type": "code",
   "source": "len(docs)",
   "id": "8c01f89c563dff99",
   "outputs": [
    {
     "data": {
      "text/plain": [
       "12"
      ]
     },
     "execution_count": 9,
     "metadata": {},
     "output_type": "execute_result"
    }
   ],
   "execution_count": 9
  },
  {
   "metadata": {
    "ExecuteTime": {
     "end_time": "2024-12-04T14:32:16.887387Z",
     "start_time": "2024-12-04T14:32:16.883469Z"
    }
   },
   "cell_type": "code",
   "source": "docs[0]",
   "id": "450a5696af94749a",
   "outputs": [
    {
     "data": {
      "text/plain": [
       "'Hace tiempo, allá por 1880, vivía en la ciudad de Londres la familia Darling. Estaba \\nformada por el señor y la señora Darling y sus hijos: Wendy, Michael y John. Sin \\nolvidarnos de Nana, por supuesto, el perro niñera.  \\n \\nVivían felices y tranquilos hasta que Peter Pan llegó a sus vidas. Todo comenzó la \\nnoche en que Nana tenía el día libre y la señora Darling se quedó a cargo de sus hijos. \\nCuando todos, incluida ella, estuvieron dormidos el muchacho entró por la ventana. \\nPero entonces ella se despertó  y se asustó tanto al verle que lanzó un fuerte grito. \\nEntonces apareció Nana, que cerró la ventana para evitar que saliera y acabó \\natrapando su sombra. Y así fue como la sombra de Peter Pan acabó en un cajón de la \\ncasa de los Darling.  \\n \\nUna noche el señor y la señora Darling salieron a cenar a casa de los vecinos del \\nnúmero 27. Los niños se quedaron en casa al cuidado de Nana y no tardaron en \\nquedarse todos dormidos.'"
      ]
     },
     "execution_count": 10,
     "metadata": {},
     "output_type": "execute_result"
    }
   ],
   "execution_count": 10
  },
  {
   "metadata": {
    "ExecuteTime": {
     "end_time": "2024-12-04T14:32:19.994279Z",
     "start_time": "2024-12-04T14:32:19.989903Z"
    }
   },
   "cell_type": "code",
   "source": "docs[1]",
   "id": "80205f8a850026b1",
   "outputs": [
    {
     "data": {
      "text/plain": [
       "'número 27. Los niños se quedaron en casa al cuidado de Nana y no tardaron en \\nquedarse todos dormidos.  \\nPero cuando la casa estaba en silencio, entró una diminuta hada revoloteando a gran \\nvelocidad y tras ella, Peter Pan, dispuesto a recuperar su sombra. La encontró en el \\ncajón en el que la había guardado Nana pero se entristeció mucho cuando comprobó \\nque la sombra no le seguía. Probó a pegársela con jabón pero no dio resultado y \\ndesesperado se se ntó en el suelo a llorar.  \\n \\n- ¿Quién está llorando? - preguntó Wendy, a quien despertaron los sollozos.  \\n- Soy yo - contestó Peter  \\n- ¿Cómo te llamas? - preguntó la niña, aunque ella estaba casi segura de saber quien \\nera \\n- Peter Pan  \\n- ¿Y qué te pasa Peter?  \\n- Que no consigo que mi sombra se me quede pegada  \\n- Tranquilo. Creo que podré cosértela  \\n \\nWendy ayudó a Peter y mientras los dos niños comenzaron a hacerse amigos.  \\n \\n- Yo vivo en el País de Nunca Jamás. Es maravilloso, allí eres siempre un niño y no'"
      ]
     },
     "execution_count": 11,
     "metadata": {},
     "output_type": "execute_result"
    }
   ],
   "execution_count": 11
  },
  {
   "metadata": {},
   "cell_type": "markdown",
   "source": "",
   "id": "36302a7c760de07a"
  },
  {
   "metadata": {},
   "cell_type": "markdown",
   "source": "### Crea el vectorstore",
   "id": "efbca0f0dbb45ce8"
  },
  {
   "metadata": {
    "ExecuteTime": {
     "end_time": "2024-12-04T14:34:33.214831Z",
     "start_time": "2024-12-04T14:34:05.173938Z"
    }
   },
   "cell_type": "code",
   "source": "vectorstore = FAISS.from_texts(docs, embeddings)\n",
   "id": "654754889afdf02c",
   "outputs": [],
   "execution_count": 13
  },
  {
   "metadata": {},
   "cell_type": "markdown",
   "source": "### Guardar el vectorstore\n",
   "id": "401910360c5ed6b1"
  },
  {
   "metadata": {},
   "cell_type": "code",
   "outputs": [],
   "execution_count": null,
   "source": "vectorstore.save_local(\"faiss_index\")",
   "id": "8d9583543a279a85"
  },
  {
   "metadata": {},
   "cell_type": "markdown",
   "source": "### Cargar el vectorstore",
   "id": "64476d7f4a149c92"
  },
  {
   "metadata": {},
   "cell_type": "code",
   "outputs": [],
   "execution_count": null,
   "source": "vectorstore = FAISS.load_local(\"faiss_index\",embeddings=embeddings,allow_dangerous_deserialization=True)\n",
   "id": "14dd4db11afe45b0"
  }
 ],
 "metadata": {
  "kernelspec": {
   "display_name": "Python 3",
   "language": "python",
   "name": "python3"
  },
  "language_info": {
   "codemirror_mode": {
    "name": "ipython",
    "version": 2
   },
   "file_extension": ".py",
   "mimetype": "text/x-python",
   "name": "python",
   "nbconvert_exporter": "python",
   "pygments_lexer": "ipython2",
   "version": "2.7.6"
  }
 },
 "nbformat": 4,
 "nbformat_minor": 5
}
