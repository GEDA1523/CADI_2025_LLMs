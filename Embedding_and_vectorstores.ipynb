{
 "cells": [
  {
   "cell_type": "markdown",
   "id": "26c4d51f6023772c",
   "metadata": {},
   "source": [
    "### Word Embeddings\n",
    "\n",
    "En esencia, las representaciones de palabras (word embeddings) son representaciones numéricas de datos del mundo real como texto, imágenes, voz o video. Se expresan como vectores de baja dimensionalidad, donde las distancias geométricas de dos vectores en el espacio vectorial son una proyección de las relaciones entre los dos objetos del mundo real que los vectores representan. En otras palabras, te ayudan a proporcionar una representación compacta de datos de diferentes tipos, mientras que simultáneamente te permiten comparar dos objetos de datos diferentes y decir cuán similares o diferentes son en una escala numérica.\n",
    "\n",
    "Estas representaciones de baja dimensionalidad de datos del mundo real ayudan significativamente a un procesamiento y almacenamiento de datos a gran escala de manera eficiente, actuando como un medio de compresión con pérdida de los datos originales mientras se conservan sus propiedades importantes.\n",
    "\n",
    "Los \"word embeddings\" se construyen con diferentes técnica y con modelos de aprendizaje automático, generalmente se pueden usar los word embeddings creados por ChatGPT (OpenAI), Google AI etc.\n",
    "\n",
    "\n",
    "\n"
   ]
  },
  {
   "cell_type": "code",
   "execution_count": null,
   "id": "3d2aae61",
   "metadata": {},
   "outputs": [
    {
     "name": "stdout",
     "output_type": "stream",
     "text": [
      "Collecting PyPDF2\n",
      "  Using cached pypdf2-3.0.1-py3-none-any.whl.metadata (6.8 kB)\n",
      "Requirement already satisfied: langchain==0.3.9 in c:\\users\\l01257675\\documents\\agosto-diciembre2021-dell\\ago-diciembre2024\\cadi2025\\cadi-llms\\cadi_2025_llms\\.venv\\lib\\site-packages (0.3.9)\n",
      "Collecting langchain-community==0.3.9\n",
      "  Using cached langchain_community-0.3.9-py3-none-any.whl.metadata (2.9 kB)\n",
      "Requirement already satisfied: langchain-core==0.3.21 in c:\\users\\l01257675\\documents\\agosto-diciembre2021-dell\\ago-diciembre2024\\cadi2025\\cadi-llms\\cadi_2025_llms\\.venv\\lib\\site-packages (0.3.21)\n",
      "Collecting langchain-experimental==0.3.3\n",
      "  Using cached langchain_experimental-0.3.3-py3-none-any.whl.metadata (1.7 kB)\n",
      "Collecting huggingface-hub==0.23.2\n",
      "  Using cached huggingface_hub-0.23.2-py3-none-any.whl.metadata (12 kB)\n",
      "Collecting instructor==1.7.0\n",
      "  Using cached instructor-1.7.0-py3-none-any.whl.metadata (17 kB)\n",
      "Collecting InstructorEmbedding==1.0.1\n",
      "  Using cached InstructorEmbedding-1.0.1-py2.py3-none-any.whl.metadata (20 kB)\n",
      "Collecting sentence-transformers==2.2.2\n",
      "  Using cached sentence-transformers-2.2.2.tar.gz (85 kB)\n",
      "  Installing build dependencies: started\n",
      "  Installing build dependencies: finished with status 'done'\n",
      "  Getting requirements to build wheel: started\n",
      "  Getting requirements to build wheel: finished with status 'done'\n",
      "  Preparing metadata (pyproject.toml): started\n",
      "  Preparing metadata (pyproject.toml): finished with status 'done'\n",
      "Collecting torch\n",
      "  Using cached torch-2.5.1-cp311-cp311-win_amd64.whl.metadata (28 kB)\n",
      "Requirement already satisfied: PyYAML>=5.3 in c:\\users\\l01257675\\documents\\agosto-diciembre2021-dell\\ago-diciembre2024\\cadi2025\\cadi-llms\\cadi_2025_llms\\.venv\\lib\\site-packages (from langchain==0.3.9) (6.0.2)\n",
      "Requirement already satisfied: SQLAlchemy<3,>=1.4 in c:\\users\\l01257675\\documents\\agosto-diciembre2021-dell\\ago-diciembre2024\\cadi2025\\cadi-llms\\cadi_2025_llms\\.venv\\lib\\site-packages (from langchain==0.3.9) (2.0.36)\n",
      "Requirement already satisfied: aiohttp<4.0.0,>=3.8.3 in c:\\users\\l01257675\\documents\\agosto-diciembre2021-dell\\ago-diciembre2024\\cadi2025\\cadi-llms\\cadi_2025_llms\\.venv\\lib\\site-packages (from langchain==0.3.9) (3.11.11)\n",
      "Requirement already satisfied: langchain-text-splitters<0.4.0,>=0.3.0 in c:\\users\\l01257675\\documents\\agosto-diciembre2021-dell\\ago-diciembre2024\\cadi2025\\cadi-llms\\cadi_2025_llms\\.venv\\lib\\site-packages (from langchain==0.3.9) (0.3.2)\n",
      "Requirement already satisfied: langsmith<0.2.0,>=0.1.17 in c:\\users\\l01257675\\documents\\agosto-diciembre2021-dell\\ago-diciembre2024\\cadi2025\\cadi-llms\\cadi_2025_llms\\.venv\\lib\\site-packages (from langchain==0.3.9) (0.1.147)\n",
      "Requirement already satisfied: numpy<2,>=1.22.4 in c:\\users\\l01257675\\documents\\agosto-diciembre2021-dell\\ago-diciembre2024\\cadi2025\\cadi-llms\\cadi_2025_llms\\.venv\\lib\\site-packages (from langchain==0.3.9) (1.26.4)\n",
      "Requirement already satisfied: pydantic<3.0.0,>=2.7.4 in c:\\users\\l01257675\\documents\\agosto-diciembre2021-dell\\ago-diciembre2024\\cadi2025\\cadi-llms\\cadi_2025_llms\\.venv\\lib\\site-packages (from langchain==0.3.9) (2.10.4)\n",
      "Requirement already satisfied: requests<3,>=2 in c:\\users\\l01257675\\documents\\agosto-diciembre2021-dell\\ago-diciembre2024\\cadi2025\\cadi-llms\\cadi_2025_llms\\.venv\\lib\\site-packages (from langchain==0.3.9) (2.32.3)\n",
      "Requirement already satisfied: tenacity!=8.4.0,<10,>=8.1.0 in c:\\users\\l01257675\\documents\\agosto-diciembre2021-dell\\ago-diciembre2024\\cadi2025\\cadi-llms\\cadi_2025_llms\\.venv\\lib\\site-packages (from langchain==0.3.9) (9.0.0)\n",
      "Collecting dataclasses-json<0.7,>=0.5.7 (from langchain-community==0.3.9)\n",
      "  Using cached dataclasses_json-0.6.7-py3-none-any.whl.metadata (25 kB)\n",
      "Collecting httpx-sse<0.5.0,>=0.4.0 (from langchain-community==0.3.9)\n",
      "  Using cached httpx_sse-0.4.0-py3-none-any.whl.metadata (9.0 kB)\n",
      "Collecting pydantic-settings<3.0.0,>=2.4.0 (from langchain-community==0.3.9)\n",
      "  Using cached pydantic_settings-2.7.0-py3-none-any.whl.metadata (3.5 kB)\n",
      "Requirement already satisfied: jsonpatch<2.0,>=1.33 in c:\\users\\l01257675\\documents\\agosto-diciembre2021-dell\\ago-diciembre2024\\cadi2025\\cadi-llms\\cadi_2025_llms\\.venv\\lib\\site-packages (from langchain-core==0.3.21) (1.33)\n",
      "Requirement already satisfied: packaging<25,>=23.2 in c:\\users\\l01257675\\documents\\agosto-diciembre2021-dell\\ago-diciembre2024\\cadi2025\\cadi-llms\\cadi_2025_llms\\.venv\\lib\\site-packages (from langchain-core==0.3.21) (24.2)\n",
      "Requirement already satisfied: typing-extensions>=4.7 in c:\\users\\l01257675\\documents\\agosto-diciembre2021-dell\\ago-diciembre2024\\cadi2025\\cadi-llms\\cadi_2025_llms\\.venv\\lib\\site-packages (from langchain-core==0.3.21) (4.12.2)\n",
      "Collecting filelock (from huggingface-hub==0.23.2)\n",
      "  Using cached filelock-3.16.1-py3-none-any.whl.metadata (2.9 kB)\n",
      "Collecting fsspec>=2023.5.0 (from huggingface-hub==0.23.2)\n",
      "  Using cached fsspec-2024.12.0-py3-none-any.whl.metadata (11 kB)\n",
      "Collecting tqdm>=4.42.1 (from huggingface-hub==0.23.2)\n",
      "  Using cached tqdm-4.67.1-py3-none-any.whl.metadata (57 kB)\n",
      "Collecting docstring-parser<0.17,>=0.16 (from instructor==1.7.0)\n",
      "  Using cached docstring_parser-0.16-py3-none-any.whl.metadata (3.0 kB)\n",
      "Collecting jinja2<4.0.0,>=3.1.4 (from instructor==1.7.0)\n",
      "  Using cached jinja2-3.1.5-py3-none-any.whl.metadata (2.6 kB)\n",
      "Collecting jiter<0.7,>=0.6.1 (from instructor==1.7.0)\n",
      "  Using cached jiter-0.6.1-cp311-none-win_amd64.whl.metadata (5.3 kB)\n",
      "Collecting openai<2.0.0,>=1.52.0 (from instructor==1.7.0)\n",
      "  Using cached openai-1.58.1-py3-none-any.whl.metadata (27 kB)\n",
      "Requirement already satisfied: pydantic-core<3.0.0,>=2.18.0 in c:\\users\\l01257675\\documents\\agosto-diciembre2021-dell\\ago-diciembre2024\\cadi2025\\cadi-llms\\cadi_2025_llms\\.venv\\lib\\site-packages (from instructor==1.7.0) (2.27.2)\n",
      "Collecting rich<14.0.0,>=13.7.0 (from instructor==1.7.0)\n",
      "  Using cached rich-13.9.4-py3-none-any.whl.metadata (18 kB)\n",
      "Collecting typer<1.0.0,>=0.9.0 (from instructor==1.7.0)\n",
      "  Using cached typer-0.15.1-py3-none-any.whl.metadata (15 kB)\n",
      "Collecting transformers<5.0.0,>=4.6.0 (from sentence-transformers==2.2.2)\n",
      "  Using cached transformers-4.47.1-py3-none-any.whl.metadata (44 kB)\n",
      "Collecting torchvision (from sentence-transformers==2.2.2)\n",
      "  Using cached torchvision-0.20.1-cp311-cp311-win_amd64.whl.metadata (6.2 kB)\n",
      "Collecting scikit-learn (from sentence-transformers==2.2.2)\n",
      "  Downloading scikit_learn-1.6.0-cp311-cp311-win_amd64.whl.metadata (15 kB)\n",
      "Collecting scipy (from sentence-transformers==2.2.2)\n",
      "  Downloading scipy-1.14.1-cp311-cp311-win_amd64.whl.metadata (60 kB)\n",
      "Collecting nltk (from sentence-transformers==2.2.2)\n",
      "  Using cached nltk-3.9.1-py3-none-any.whl.metadata (2.9 kB)\n",
      "Collecting sentencepiece (from sentence-transformers==2.2.2)\n",
      "  Using cached sentencepiece-0.2.0-cp311-cp311-win_amd64.whl.metadata (8.3 kB)\n",
      "Collecting networkx (from torch)\n",
      "  Using cached networkx-3.4.2-py3-none-any.whl.metadata (6.3 kB)\n",
      "Collecting sympy==1.13.1 (from torch)\n",
      "  Using cached sympy-1.13.1-py3-none-any.whl.metadata (12 kB)\n",
      "Collecting mpmath<1.4,>=1.1.0 (from sympy==1.13.1->torch)\n",
      "  Using cached mpmath-1.3.0-py3-none-any.whl.metadata (8.6 kB)\n",
      "Requirement already satisfied: aiohappyeyeballs>=2.3.0 in c:\\users\\l01257675\\documents\\agosto-diciembre2021-dell\\ago-diciembre2024\\cadi2025\\cadi-llms\\cadi_2025_llms\\.venv\\lib\\site-packages (from aiohttp<4.0.0,>=3.8.3->langchain==0.3.9) (2.4.4)\n",
      "Requirement already satisfied: aiosignal>=1.1.2 in c:\\users\\l01257675\\documents\\agosto-diciembre2021-dell\\ago-diciembre2024\\cadi2025\\cadi-llms\\cadi_2025_llms\\.venv\\lib\\site-packages (from aiohttp<4.0.0,>=3.8.3->langchain==0.3.9) (1.3.2)\n",
      "Requirement already satisfied: attrs>=17.3.0 in c:\\users\\l01257675\\documents\\agosto-diciembre2021-dell\\ago-diciembre2024\\cadi2025\\cadi-llms\\cadi_2025_llms\\.venv\\lib\\site-packages (from aiohttp<4.0.0,>=3.8.3->langchain==0.3.9) (24.3.0)\n",
      "Requirement already satisfied: frozenlist>=1.1.1 in c:\\users\\l01257675\\documents\\agosto-diciembre2021-dell\\ago-diciembre2024\\cadi2025\\cadi-llms\\cadi_2025_llms\\.venv\\lib\\site-packages (from aiohttp<4.0.0,>=3.8.3->langchain==0.3.9) (1.5.0)\n",
      "Requirement already satisfied: multidict<7.0,>=4.5 in c:\\users\\l01257675\\documents\\agosto-diciembre2021-dell\\ago-diciembre2024\\cadi2025\\cadi-llms\\cadi_2025_llms\\.venv\\lib\\site-packages (from aiohttp<4.0.0,>=3.8.3->langchain==0.3.9) (6.1.0)\n",
      "Requirement already satisfied: propcache>=0.2.0 in c:\\users\\l01257675\\documents\\agosto-diciembre2021-dell\\ago-diciembre2024\\cadi2025\\cadi-llms\\cadi_2025_llms\\.venv\\lib\\site-packages (from aiohttp<4.0.0,>=3.8.3->langchain==0.3.9) (0.2.1)\n",
      "Requirement already satisfied: yarl<2.0,>=1.17.0 in c:\\users\\l01257675\\documents\\agosto-diciembre2021-dell\\ago-diciembre2024\\cadi2025\\cadi-llms\\cadi_2025_llms\\.venv\\lib\\site-packages (from aiohttp<4.0.0,>=3.8.3->langchain==0.3.9) (1.18.3)\n",
      "Collecting marshmallow<4.0.0,>=3.18.0 (from dataclasses-json<0.7,>=0.5.7->langchain-community==0.3.9)\n",
      "  Using cached marshmallow-3.23.2-py3-none-any.whl.metadata (7.1 kB)\n",
      "Collecting typing-inspect<1,>=0.4.0 (from dataclasses-json<0.7,>=0.5.7->langchain-community==0.3.9)\n",
      "  Using cached typing_inspect-0.9.0-py3-none-any.whl.metadata (1.5 kB)\n",
      "Collecting MarkupSafe>=2.0 (from jinja2<4.0.0,>=3.1.4->instructor==1.7.0)\n",
      "  Using cached MarkupSafe-3.0.2-cp311-cp311-win_amd64.whl.metadata (4.1 kB)\n",
      "Requirement already satisfied: jsonpointer>=1.9 in c:\\users\\l01257675\\documents\\agosto-diciembre2021-dell\\ago-diciembre2024\\cadi2025\\cadi-llms\\cadi_2025_llms\\.venv\\lib\\site-packages (from jsonpatch<2.0,>=1.33->langchain-core==0.3.21) (3.0.0)\n",
      "Requirement already satisfied: httpx<1,>=0.23.0 in c:\\users\\l01257675\\documents\\agosto-diciembre2021-dell\\ago-diciembre2024\\cadi2025\\cadi-llms\\cadi_2025_llms\\.venv\\lib\\site-packages (from langsmith<0.2.0,>=0.1.17->langchain==0.3.9) (0.27.2)\n",
      "Requirement already satisfied: orjson<4.0.0,>=3.9.14 in c:\\users\\l01257675\\documents\\agosto-diciembre2021-dell\\ago-diciembre2024\\cadi2025\\cadi-llms\\cadi_2025_llms\\.venv\\lib\\site-packages (from langsmith<0.2.0,>=0.1.17->langchain==0.3.9) (3.10.12)\n",
      "Requirement already satisfied: requests-toolbelt<2.0.0,>=1.0.0 in c:\\users\\l01257675\\documents\\agosto-diciembre2021-dell\\ago-diciembre2024\\cadi2025\\cadi-llms\\cadi_2025_llms\\.venv\\lib\\site-packages (from langsmith<0.2.0,>=0.1.17->langchain==0.3.9) (1.0.0)\n",
      "Requirement already satisfied: anyio<5,>=3.5.0 in c:\\users\\l01257675\\documents\\agosto-diciembre2021-dell\\ago-diciembre2024\\cadi2025\\cadi-llms\\cadi_2025_llms\\.venv\\lib\\site-packages (from openai<2.0.0,>=1.52.0->instructor==1.7.0) (4.7.0)\n",
      "Collecting distro<2,>=1.7.0 (from openai<2.0.0,>=1.52.0->instructor==1.7.0)\n",
      "  Using cached distro-1.9.0-py3-none-any.whl.metadata (6.8 kB)\n",
      "Requirement already satisfied: sniffio in c:\\users\\l01257675\\documents\\agosto-diciembre2021-dell\\ago-diciembre2024\\cadi2025\\cadi-llms\\cadi_2025_llms\\.venv\\lib\\site-packages (from openai<2.0.0,>=1.52.0->instructor==1.7.0) (1.3.1)\n",
      "Requirement already satisfied: annotated-types>=0.6.0 in c:\\users\\l01257675\\documents\\agosto-diciembre2021-dell\\ago-diciembre2024\\cadi2025\\cadi-llms\\cadi_2025_llms\\.venv\\lib\\site-packages (from pydantic<3.0.0,>=2.7.4->langchain==0.3.9) (0.7.0)\n",
      "Collecting python-dotenv>=0.21.0 (from pydantic-settings<3.0.0,>=2.4.0->langchain-community==0.3.9)\n",
      "  Using cached python_dotenv-1.0.1-py3-none-any.whl.metadata (23 kB)\n",
      "Requirement already satisfied: charset-normalizer<4,>=2 in c:\\users\\l01257675\\documents\\agosto-diciembre2021-dell\\ago-diciembre2024\\cadi2025\\cadi-llms\\cadi_2025_llms\\.venv\\lib\\site-packages (from requests<3,>=2->langchain==0.3.9) (3.4.1)\n",
      "Requirement already satisfied: idna<4,>=2.5 in c:\\users\\l01257675\\documents\\agosto-diciembre2021-dell\\ago-diciembre2024\\cadi2025\\cadi-llms\\cadi_2025_llms\\.venv\\lib\\site-packages (from requests<3,>=2->langchain==0.3.9) (3.10)\n",
      "Requirement already satisfied: urllib3<3,>=1.21.1 in c:\\users\\l01257675\\documents\\agosto-diciembre2021-dell\\ago-diciembre2024\\cadi2025\\cadi-llms\\cadi_2025_llms\\.venv\\lib\\site-packages (from requests<3,>=2->langchain==0.3.9) (2.3.0)\n",
      "Requirement already satisfied: certifi>=2017.4.17 in c:\\users\\l01257675\\documents\\agosto-diciembre2021-dell\\ago-diciembre2024\\cadi2025\\cadi-llms\\cadi_2025_llms\\.venv\\lib\\site-packages (from requests<3,>=2->langchain==0.3.9) (2024.12.14)\n",
      "Collecting markdown-it-py>=2.2.0 (from rich<14.0.0,>=13.7.0->instructor==1.7.0)\n",
      "  Using cached markdown_it_py-3.0.0-py3-none-any.whl.metadata (6.9 kB)\n",
      "Requirement already satisfied: pygments<3.0.0,>=2.13.0 in c:\\users\\l01257675\\documents\\agosto-diciembre2021-dell\\ago-diciembre2024\\cadi2025\\cadi-llms\\cadi_2025_llms\\.venv\\lib\\site-packages (from rich<14.0.0,>=13.7.0->instructor==1.7.0) (2.18.0)\n",
      "Requirement already satisfied: greenlet!=0.4.17 in c:\\users\\l01257675\\documents\\agosto-diciembre2021-dell\\ago-diciembre2024\\cadi2025\\cadi-llms\\cadi_2025_llms\\.venv\\lib\\site-packages (from SQLAlchemy<3,>=1.4->langchain==0.3.9) (3.1.1)\n",
      "Requirement already satisfied: colorama in c:\\users\\l01257675\\documents\\agosto-diciembre2021-dell\\ago-diciembre2024\\cadi2025\\cadi-llms\\cadi_2025_llms\\.venv\\lib\\site-packages (from tqdm>=4.42.1->huggingface-hub==0.23.2) (0.4.6)\n",
      "INFO: pip is looking at multiple versions of transformers to determine which version is compatible with other requirements. This could take a while.\n",
      "Collecting transformers<5.0.0,>=4.6.0 (from sentence-transformers==2.2.2)\n",
      "  Downloading transformers-4.47.0-py3-none-any.whl.metadata (43 kB)\n",
      "  Using cached transformers-4.46.3-py3-none-any.whl.metadata (44 kB)\n",
      "Collecting regex!=2019.12.17 (from transformers<5.0.0,>=4.6.0->sentence-transformers==2.2.2)\n",
      "  Using cached regex-2024.11.6-cp311-cp311-win_amd64.whl.metadata (41 kB)\n",
      "Collecting tokenizers<0.21,>=0.20 (from transformers<5.0.0,>=4.6.0->sentence-transformers==2.2.2)\n",
      "  Using cached tokenizers-0.20.3-cp311-none-win_amd64.whl.metadata (6.9 kB)\n",
      "Collecting safetensors>=0.4.1 (from transformers<5.0.0,>=4.6.0->sentence-transformers==2.2.2)\n",
      "  Using cached safetensors-0.4.5-cp311-none-win_amd64.whl.metadata (3.9 kB)\n",
      "Collecting click>=8.0.0 (from typer<1.0.0,>=0.9.0->instructor==1.7.0)\n",
      "  Using cached click-8.1.8-py3-none-any.whl.metadata (2.3 kB)\n",
      "Collecting shellingham>=1.3.0 (from typer<1.0.0,>=0.9.0->instructor==1.7.0)\n",
      "  Using cached shellingham-1.5.4-py2.py3-none-any.whl.metadata (3.5 kB)\n",
      "Collecting joblib (from nltk->sentence-transformers==2.2.2)\n",
      "  Using cached joblib-1.4.2-py3-none-any.whl.metadata (5.4 kB)\n",
      "Collecting threadpoolctl>=3.1.0 (from scikit-learn->sentence-transformers==2.2.2)\n",
      "  Using cached threadpoolctl-3.5.0-py3-none-any.whl.metadata (13 kB)\n",
      "Collecting pillow!=8.3.*,>=5.3.0 (from torchvision->sentence-transformers==2.2.2)\n",
      "  Using cached pillow-11.0.0-cp311-cp311-win_amd64.whl.metadata (9.3 kB)\n",
      "Requirement already satisfied: httpcore==1.* in c:\\users\\l01257675\\documents\\agosto-diciembre2021-dell\\ago-diciembre2024\\cadi2025\\cadi-llms\\cadi_2025_llms\\.venv\\lib\\site-packages (from httpx<1,>=0.23.0->langsmith<0.2.0,>=0.1.17->langchain==0.3.9) (1.0.7)\n",
      "Requirement already satisfied: h11<0.15,>=0.13 in c:\\users\\l01257675\\documents\\agosto-diciembre2021-dell\\ago-diciembre2024\\cadi2025\\cadi-llms\\cadi_2025_llms\\.venv\\lib\\site-packages (from httpcore==1.*->httpx<1,>=0.23.0->langsmith<0.2.0,>=0.1.17->langchain==0.3.9) (0.14.0)\n",
      "Collecting mdurl~=0.1 (from markdown-it-py>=2.2.0->rich<14.0.0,>=13.7.0->instructor==1.7.0)\n",
      "  Using cached mdurl-0.1.2-py3-none-any.whl.metadata (1.6 kB)\n",
      "Collecting mypy-extensions>=0.3.0 (from typing-inspect<1,>=0.4.0->dataclasses-json<0.7,>=0.5.7->langchain-community==0.3.9)\n",
      "  Using cached mypy_extensions-1.0.0-py3-none-any.whl.metadata (1.1 kB)\n",
      "Using cached langchain_community-0.3.9-py3-none-any.whl (2.4 MB)\n",
      "Using cached langchain_experimental-0.3.3-py3-none-any.whl (208 kB)\n",
      "Using cached huggingface_hub-0.23.2-py3-none-any.whl (401 kB)\n",
      "Using cached instructor-1.7.0-py3-none-any.whl (70 kB)\n",
      "Using cached InstructorEmbedding-1.0.1-py2.py3-none-any.whl (19 kB)\n",
      "Using cached pypdf2-3.0.1-py3-none-any.whl (232 kB)\n",
      "Using cached torch-2.5.1-cp311-cp311-win_amd64.whl (203.1 MB)\n",
      "Using cached sympy-1.13.1-py3-none-any.whl (6.2 MB)\n",
      "Using cached dataclasses_json-0.6.7-py3-none-any.whl (28 kB)\n",
      "Using cached docstring_parser-0.16-py3-none-any.whl (36 kB)\n",
      "Using cached fsspec-2024.12.0-py3-none-any.whl (183 kB)\n",
      "Using cached httpx_sse-0.4.0-py3-none-any.whl (7.8 kB)\n",
      "Using cached jinja2-3.1.5-py3-none-any.whl (134 kB)\n",
      "Using cached jiter-0.6.1-cp311-none-win_amd64.whl (201 kB)\n",
      "Using cached openai-1.58.1-py3-none-any.whl (454 kB)\n",
      "Using cached pydantic_settings-2.7.0-py3-none-any.whl (29 kB)\n",
      "Using cached rich-13.9.4-py3-none-any.whl (242 kB)\n",
      "Using cached tqdm-4.67.1-py3-none-any.whl (78 kB)\n",
      "Using cached transformers-4.46.3-py3-none-any.whl (10.0 MB)\n",
      "Using cached typer-0.15.1-py3-none-any.whl (44 kB)\n",
      "Using cached filelock-3.16.1-py3-none-any.whl (16 kB)\n",
      "Using cached networkx-3.4.2-py3-none-any.whl (1.7 MB)\n",
      "Using cached nltk-3.9.1-py3-none-any.whl (1.5 MB)\n",
      "Downloading scikit_learn-1.6.0-cp311-cp311-win_amd64.whl (11.1 MB)\n",
      "   ---------------------------------------- 0.0/11.1 MB ? eta -:--:--\n",
      "    --------------------------------------- 0.3/11.1 MB ? eta -:--:--\n",
      "    --------------------------------------- 0.3/11.1 MB ? eta -:--:--\n",
      "    --------------------------------------- 0.3/11.1 MB ? eta -:--:--\n",
      "    --------------------------------------- 0.3/11.1 MB ? eta -:--:--\n",
      "   -- ------------------------------------- 0.8/11.1 MB 532.8 kB/s eta 0:00:20\n",
      "   ------ --------------------------------- 1.8/11.1 MB 1.3 MB/s eta 0:00:08\n",
      "   ------ --------------------------------- 1.8/11.1 MB 1.3 MB/s eta 0:00:08\n",
      "   ------ --------------------------------- 1.8/11.1 MB 1.3 MB/s eta 0:00:08\n",
      "   ------ --------------------------------- 1.8/11.1 MB 1.3 MB/s eta 0:00:08\n",
      "   ------ --------------------------------- 1.8/11.1 MB 1.3 MB/s eta 0:00:08\n",
      "   ------ --------------------------------- 1.8/11.1 MB 1.3 MB/s eta 0:00:08\n",
      "   ------ --------------------------------- 1.8/11.1 MB 1.3 MB/s eta 0:00:08\n",
      "   ------ --------------------------------- 1.8/11.1 MB 1.3 MB/s eta 0:00:08\n",
      "   ------ --------------------------------- 1.8/11.1 MB 1.3 MB/s eta 0:00:08\n",
      "   ------ --------------------------------- 1.8/11.1 MB 1.3 MB/s eta 0:00:08\n",
      "   --------- ------------------------------ 2.6/11.1 MB 696.0 kB/s eta 0:00:13\n",
      "   -------------- ------------------------- 3.9/11.1 MB 1.0 MB/s eta 0:00:08\n",
      "   ------------------- -------------------- 5.5/11.1 MB 1.4 MB/s eta 0:00:05\n",
      "   ---------------------- ----------------- 6.3/11.1 MB 1.5 MB/s eta 0:00:04\n",
      "   ---------------------- ----------------- 6.3/11.1 MB 1.5 MB/s eta 0:00:04\n",
      "   ---------------------- ----------------- 6.3/11.1 MB 1.5 MB/s eta 0:00:04\n",
      "   ------------------------- -------------- 7.1/11.1 MB 1.5 MB/s eta 0:00:03\n",
      "   ------------------------------- -------- 8.7/11.1 MB 1.7 MB/s eta 0:00:02\n",
      "   ----------------------------------- ---- 10.0/11.1 MB 1.9 MB/s eta 0:00:01\n",
      "   ------------------------------------ --- 10.2/11.1 MB 1.9 MB/s eta 0:00:01\n",
      "   ------------------------------------ --- 10.2/11.1 MB 1.9 MB/s eta 0:00:01\n",
      "   ------------------------------------- -- 10.5/11.1 MB 1.8 MB/s eta 0:00:01\n",
      "   ---------------------------------------- 11.1/11.1 MB 1.8 MB/s eta 0:00:00\n",
      "Downloading scipy-1.14.1-cp311-cp311-win_amd64.whl (44.8 MB)\n",
      "   ---------------------------------------- 0.0/44.8 MB ? eta -:--:--\n",
      "   - -------------------------------------- 1.3/44.8 MB 7.5 MB/s eta 0:00:06\n",
      "   -- ------------------------------------- 2.4/44.8 MB 7.1 MB/s eta 0:00:06\n",
      "   -- ------------------------------------- 2.4/44.8 MB 7.1 MB/s eta 0:00:06\n",
      "   -- ------------------------------------- 2.6/44.8 MB 3.0 MB/s eta 0:00:15\n",
      "   --- ------------------------------------ 3.4/44.8 MB 3.2 MB/s eta 0:00:13\n",
      "   ---- ----------------------------------- 5.0/44.8 MB 3.9 MB/s eta 0:00:11\n",
      "   ----- ---------------------------------- 6.3/44.8 MB 4.2 MB/s eta 0:00:10\n",
      "   ----- ---------------------------------- 6.6/44.8 MB 4.3 MB/s eta 0:00:09\n",
      "   ----- ---------------------------------- 6.6/44.8 MB 4.3 MB/s eta 0:00:09\n",
      "   ------ --------------------------------- 6.8/44.8 MB 3.1 MB/s eta 0:00:13\n",
      "   ------ --------------------------------- 7.1/44.8 MB 3.1 MB/s eta 0:00:13\n",
      "   ------ --------------------------------- 7.6/44.8 MB 3.0 MB/s eta 0:00:13\n",
      "   ------- -------------------------------- 8.1/44.8 MB 2.9 MB/s eta 0:00:13\n",
      "   ------- -------------------------------- 8.1/44.8 MB 2.9 MB/s eta 0:00:13\n",
      "   ------- -------------------------------- 8.1/44.8 MB 2.9 MB/s eta 0:00:13\n",
      "   ------- -------------------------------- 8.1/44.8 MB 2.9 MB/s eta 0:00:13\n",
      "   ------- -------------------------------- 8.1/44.8 MB 2.9 MB/s eta 0:00:13\n",
      "   ------- -------------------------------- 8.1/44.8 MB 2.9 MB/s eta 0:00:13\n",
      "   ------- -------------------------------- 8.4/44.8 MB 2.1 MB/s eta 0:00:18\n",
      "   ------- -------------------------------- 8.7/44.8 MB 2.0 MB/s eta 0:00:19\n",
      "   ------- -------------------------------- 8.7/44.8 MB 2.0 MB/s eta 0:00:19\n",
      "   ------- -------------------------------- 8.7/44.8 MB 2.0 MB/s eta 0:00:19\n",
      "   ------- -------------------------------- 8.7/44.8 MB 2.0 MB/s eta 0:00:19\n",
      "   ------- -------------------------------- 8.7/44.8 MB 2.0 MB/s eta 0:00:19\n",
      "   ------- -------------------------------- 8.7/44.8 MB 2.0 MB/s eta 0:00:19\n",
      "   ------- -------------------------------- 8.7/44.8 MB 2.0 MB/s eta 0:00:19\n",
      "   ------- -------------------------------- 8.7/44.8 MB 2.0 MB/s eta 0:00:19\n",
      "   ------- -------------------------------- 8.7/44.8 MB 2.0 MB/s eta 0:00:19\n",
      "   ------- -------------------------------- 8.7/44.8 MB 2.0 MB/s eta 0:00:19\n",
      "   ------- -------------------------------- 8.7/44.8 MB 2.0 MB/s eta 0:00:19\n",
      "   ------- -------------------------------- 8.7/44.8 MB 2.0 MB/s eta 0:00:19\n",
      "   ------- -------------------------------- 8.7/44.8 MB 2.0 MB/s eta 0:00:19\n",
      "   ------- -------------------------------- 8.7/44.8 MB 2.0 MB/s eta 0:00:19\n",
      "   ------- -------------------------------- 8.7/44.8 MB 2.0 MB/s eta 0:00:19\n",
      "   ------- -------------------------------- 8.7/44.8 MB 2.0 MB/s eta 0:00:19\n",
      "   ------- -------------------------------- 8.7/44.8 MB 2.0 MB/s eta 0:00:19\n",
      "   ------- -------------------------------- 8.7/44.8 MB 2.0 MB/s eta 0:00:19\n",
      "   ------- -------------------------------- 8.7/44.8 MB 2.0 MB/s eta 0:00:19\n",
      "   ------- -------------------------------- 8.7/44.8 MB 2.0 MB/s eta 0:00:19\n",
      "   ------- -------------------------------- 8.7/44.8 MB 2.0 MB/s eta 0:00:19\n",
      "   ------- -------------------------------- 8.7/44.8 MB 2.0 MB/s eta 0:00:19\n",
      "   ------- -------------------------------- 8.7/44.8 MB 2.0 MB/s eta 0:00:19\n",
      "   ------- -------------------------------- 8.9/44.8 MB 941.6 kB/s eta 0:00:39\n",
      "   -------- ------------------------------- 9.4/44.8 MB 972.2 kB/s eta 0:00:37\n",
      "   --------- ------------------------------ 10.5/44.8 MB 1.1 MB/s eta 0:00:33\n",
      "   --------- ------------------------------ 10.7/44.8 MB 1.1 MB/s eta 0:00:32\n",
      "   --------- ------------------------------ 10.7/44.8 MB 1.1 MB/s eta 0:00:32\n",
      "   ---------- ----------------------------- 11.5/44.8 MB 1.1 MB/s eta 0:00:31\n",
      "   ----------- ---------------------------- 12.6/44.8 MB 1.2 MB/s eta 0:00:28\n",
      "   ------------ --------------------------- 13.6/44.8 MB 1.2 MB/s eta 0:00:26\n",
      "   ------------ --------------------------- 14.4/44.8 MB 1.3 MB/s eta 0:00:24\n",
      "   ------------ --------------------------- 14.4/44.8 MB 1.3 MB/s eta 0:00:24\n",
      "   ------------ --------------------------- 14.4/44.8 MB 1.3 MB/s eta 0:00:24\n",
      "   ------------ --------------------------- 14.4/44.8 MB 1.3 MB/s eta 0:00:24\n",
      "   ------------- -------------------------- 14.7/44.8 MB 1.2 MB/s eta 0:00:25\n",
      "   ------------- -------------------------- 15.5/44.8 MB 1.3 MB/s eta 0:00:24\n",
      "   ------------- -------------------------- 15.5/44.8 MB 1.3 MB/s eta 0:00:24\n",
      "   ------------- -------------------------- 15.5/44.8 MB 1.3 MB/s eta 0:00:24\n",
      "   -------------- ------------------------- 16.0/44.8 MB 1.2 MB/s eta 0:00:24\n",
      "   -------------- ------------------------- 16.8/44.8 MB 1.3 MB/s eta 0:00:22\n",
      "   --------------- ------------------------ 17.8/44.8 MB 1.3 MB/s eta 0:00:21\n",
      "   ---------------- ----------------------- 18.1/44.8 MB 1.4 MB/s eta 0:00:20\n",
      "   ---------------- ----------------------- 18.1/44.8 MB 1.4 MB/s eta 0:00:20\n",
      "   ---------------- ----------------------- 18.6/44.8 MB 1.3 MB/s eta 0:00:20\n",
      "   ----------------- ---------------------- 19.7/44.8 MB 1.4 MB/s eta 0:00:19\n",
      "   ------------------ --------------------- 21.0/44.8 MB 1.5 MB/s eta 0:00:17\n",
      "   ------------------- -------------------- 21.8/44.8 MB 1.5 MB/s eta 0:00:16\n",
      "   ------------------- -------------------- 21.8/44.8 MB 1.5 MB/s eta 0:00:16\n",
      "   ------------------- -------------------- 21.8/44.8 MB 1.5 MB/s eta 0:00:16\n",
      "   ------------------- -------------------- 21.8/44.8 MB 1.5 MB/s eta 0:00:16\n",
      "   ------------------- -------------------- 22.0/44.8 MB 1.4 MB/s eta 0:00:16\n",
      "   -------------------- ------------------- 22.8/44.8 MB 1.5 MB/s eta 0:00:16\n",
      "   --------------------- ------------------ 23.9/44.8 MB 1.5 MB/s eta 0:00:14\n",
      "   --------------------- ------------------ 23.9/44.8 MB 1.5 MB/s eta 0:00:14\n",
      "   --------------------- ------------------ 23.9/44.8 MB 1.5 MB/s eta 0:00:14\n",
      "   --------------------- ------------------ 24.4/44.8 MB 1.5 MB/s eta 0:00:14\n",
      "   ---------------------- ----------------- 25.4/44.8 MB 1.5 MB/s eta 0:00:13\n",
      "   ------------------------ --------------- 27.0/44.8 MB 1.6 MB/s eta 0:00:12\n",
      "   ------------------------- -------------- 28.0/44.8 MB 1.6 MB/s eta 0:00:11\n",
      "   ------------------------- -------------- 28.0/44.8 MB 1.6 MB/s eta 0:00:11\n",
      "   ------------------------- -------------- 28.0/44.8 MB 1.6 MB/s eta 0:00:11\n",
      "   ------------------------- -------------- 28.0/44.8 MB 1.6 MB/s eta 0:00:11\n",
      "   ------------------------- -------------- 28.0/44.8 MB 1.6 MB/s eta 0:00:11\n",
      "   ------------------------- -------------- 28.6/44.8 MB 1.6 MB/s eta 0:00:11\n",
      "   ------------------------- -------------- 28.8/44.8 MB 1.6 MB/s eta 0:00:11\n",
      "   ------------------------- -------------- 28.8/44.8 MB 1.6 MB/s eta 0:00:11\n",
      "   -------------------------- ------------- 29.6/44.8 MB 1.6 MB/s eta 0:00:10\n",
      "   --------------------------- ------------ 30.9/44.8 MB 1.6 MB/s eta 0:00:09\n",
      "   ---------------------------- ----------- 32.2/44.8 MB 1.7 MB/s eta 0:00:08\n",
      "   ----------------------------- ---------- 33.0/44.8 MB 1.7 MB/s eta 0:00:07\n",
      "   ----------------------------- ---------- 33.0/44.8 MB 1.7 MB/s eta 0:00:07\n",
      "   ----------------------------- ---------- 33.6/44.8 MB 1.7 MB/s eta 0:00:07\n",
      "   ------------------------------ --------- 34.3/44.8 MB 1.7 MB/s eta 0:00:07\n",
      "   ------------------------------- -------- 35.7/44.8 MB 1.7 MB/s eta 0:00:06\n",
      "   -------------------------------- ------- 36.7/44.8 MB 1.8 MB/s eta 0:00:05\n",
      "   -------------------------------- ------- 36.7/44.8 MB 1.8 MB/s eta 0:00:05\n",
      "   -------------------------------- ------- 36.7/44.8 MB 1.8 MB/s eta 0:00:05\n",
      "   --------------------------------- ------ 37.2/44.8 MB 1.8 MB/s eta 0:00:05\n",
      "   --------------------------------- ------ 38.0/44.8 MB 1.8 MB/s eta 0:00:04\n",
      "   ---------------------------------- ----- 38.5/44.8 MB 1.8 MB/s eta 0:00:04\n",
      "   ---------------------------------- ----- 38.8/44.8 MB 1.8 MB/s eta 0:00:04\n",
      "   ---------------------------------- ----- 38.8/44.8 MB 1.8 MB/s eta 0:00:04\n",
      "   ---------------------------------- ----- 38.8/44.8 MB 1.8 MB/s eta 0:00:04\n",
      "   ---------------------------------- ----- 38.8/44.8 MB 1.8 MB/s eta 0:00:04\n",
      "   ---------------------------------- ----- 39.1/44.8 MB 1.7 MB/s eta 0:00:04\n",
      "   ----------------------------------- ---- 40.1/44.8 MB 1.7 MB/s eta 0:00:03\n",
      "   ----------------------------------- ---- 40.1/44.8 MB 1.7 MB/s eta 0:00:03\n",
      "   ----------------------------------- ---- 40.1/44.8 MB 1.7 MB/s eta 0:00:03\n",
      "   ----------------------------------- ---- 40.1/44.8 MB 1.7 MB/s eta 0:00:03\n",
      "   ----------------------------------- ---- 40.1/44.8 MB 1.7 MB/s eta 0:00:03\n",
      "   ------------------------------------ --- 40.9/44.8 MB 1.7 MB/s eta 0:00:03\n",
      "   ------------------------------------- -- 42.2/44.8 MB 1.7 MB/s eta 0:00:02\n",
      "   ------------------------------------- -- 42.5/44.8 MB 1.7 MB/s eta 0:00:02\n",
      "   ------------------------------------- -- 42.5/44.8 MB 1.7 MB/s eta 0:00:02\n",
      "   ------------------------------------- -- 42.5/44.8 MB 1.7 MB/s eta 0:00:02\n",
      "   ------------------------------------- -- 42.5/44.8 MB 1.7 MB/s eta 0:00:02\n",
      "   -------------------------------------- - 42.7/44.8 MB 1.7 MB/s eta 0:00:02\n",
      "   -------------------------------------- - 43.5/44.8 MB 1.7 MB/s eta 0:00:01\n",
      "   ---------------------------------------  44.3/44.8 MB 1.7 MB/s eta 0:00:01\n",
      "   ---------------------------------------- 44.8/44.8 MB 1.7 MB/s eta 0:00:00\n",
      "Using cached sentencepiece-0.2.0-cp311-cp311-win_amd64.whl (991 kB)\n",
      "Using cached torchvision-0.20.1-cp311-cp311-win_amd64.whl (1.6 MB)\n",
      "Using cached click-8.1.8-py3-none-any.whl (98 kB)\n",
      "Using cached distro-1.9.0-py3-none-any.whl (20 kB)\n",
      "Using cached joblib-1.4.2-py3-none-any.whl (301 kB)\n",
      "Using cached markdown_it_py-3.0.0-py3-none-any.whl (87 kB)\n",
      "Using cached MarkupSafe-3.0.2-cp311-cp311-win_amd64.whl (15 kB)\n",
      "Using cached marshmallow-3.23.2-py3-none-any.whl (49 kB)\n",
      "Using cached mpmath-1.3.0-py3-none-any.whl (536 kB)\n",
      "Using cached pillow-11.0.0-cp311-cp311-win_amd64.whl (2.6 MB)\n",
      "Using cached python_dotenv-1.0.1-py3-none-any.whl (19 kB)\n",
      "Using cached regex-2024.11.6-cp311-cp311-win_amd64.whl (274 kB)\n",
      "Using cached safetensors-0.4.5-cp311-none-win_amd64.whl (285 kB)\n",
      "Using cached shellingham-1.5.4-py2.py3-none-any.whl (9.8 kB)\n",
      "Using cached threadpoolctl-3.5.0-py3-none-any.whl (18 kB)\n",
      "Using cached tokenizers-0.20.3-cp311-none-win_amd64.whl (2.4 MB)\n",
      "Using cached typing_inspect-0.9.0-py3-none-any.whl (8.8 kB)\n",
      "Using cached mdurl-0.1.2-py3-none-any.whl (10.0 kB)\n",
      "Using cached mypy_extensions-1.0.0-py3-none-any.whl (4.7 kB)\n",
      "Building wheels for collected packages: sentence-transformers\n",
      "  Building wheel for sentence-transformers (pyproject.toml): started\n",
      "  Building wheel for sentence-transformers (pyproject.toml): finished with status 'done'\n",
      "  Created wheel for sentence-transformers: filename=sentence_transformers-2.2.2-py3-none-any.whl size=125956 sha256=3d6b72e658d949daf4c44dbd765daf624df5f27f55ccfaec4a09aa00a4f2d836\n",
      "  Stored in directory: c:\\users\\l01257675\\appdata\\local\\pip\\cache\\wheels\\ff\\27\\bf\\ffba8b318b02d7f691a57084ee154e26ed24d012b0c7805881\n",
      "Successfully built sentence-transformers\n",
      "Installing collected packages: sentencepiece, mpmath, InstructorEmbedding, tqdm, threadpoolctl, sympy, shellingham, scipy, safetensors, regex, python-dotenv, PyPDF2, pillow, networkx, mypy-extensions, mdurl, marshmallow, MarkupSafe, joblib, jiter, httpx-sse, fsspec, filelock, docstring-parser, distro, click, typing-inspect, scikit-learn, nltk, markdown-it-py, jinja2, huggingface-hub, torch, tokenizers, rich, pydantic-settings, openai, dataclasses-json, typer, transformers, torchvision, sentence-transformers, instructor, langchain-community, langchain-experimental\n",
      "Successfully installed InstructorEmbedding-1.0.1 MarkupSafe-3.0.2 PyPDF2-3.0.1 click-8.1.8 dataclasses-json-0.6.7 distro-1.9.0 docstring-parser-0.16 filelock-3.16.1 fsspec-2024.12.0 httpx-sse-0.4.0 huggingface-hub-0.23.2 instructor-1.7.0 jinja2-3.1.5 jiter-0.6.1 joblib-1.4.2 langchain-community-0.3.9 langchain-experimental-0.3.3 markdown-it-py-3.0.0 marshmallow-3.23.2 mdurl-0.1.2 mpmath-1.3.0 mypy-extensions-1.0.0 networkx-3.4.2 nltk-3.9.1 openai-1.58.1 pillow-11.0.0 pydantic-settings-2.7.0 python-dotenv-1.0.1 regex-2024.11.6 rich-13.9.4 safetensors-0.4.5 scikit-learn-1.6.0 scipy-1.14.1 sentence-transformers-2.2.2 sentencepiece-0.2.0 shellingham-1.5.4 sympy-1.13.1 threadpoolctl-3.5.0 tokenizers-0.20.3 torch-2.5.1 torchvision-0.20.1 tqdm-4.67.1 transformers-4.46.3 typer-0.15.1 typing-inspect-0.9.0\n"
     ]
    }
   ],
   "source": [
    "!pip install PyPDF2 langchain==0.3.9 langchain-community==0.3.9 langchain-core==0.3.21 langchain-experimental==0.3.3 huggingface-hub==0.23.2 instructor==1.7.0 InstructorEmbedding==1.0.1 sentence-transformers==2.2.2 torch pdfplumber faiss-cpu\n"
   ]
  },
  {
   "cell_type": "code",
   "execution_count": 4,
   "id": "initial_id",
   "metadata": {
    "ExecuteTime": {
     "end_time": "2024-12-04T14:31:42.439865Z",
     "start_time": "2024-12-04T14:31:39.886605Z"
    },
    "collapsed": true
   },
   "outputs": [
    {
     "name": "stderr",
     "output_type": "stream",
     "text": [
      "c:\\Users\\L01257675\\Documents\\Agosto-Diciembre2021-DELL\\Ago-Diciembre2024\\CADI2025\\CADI-LLMs\\CADI_2025_LLMs\\.venv\\Lib\\site-packages\\InstructorEmbedding\\instructor.py:7: TqdmWarning: IProgress not found. Please update jupyter and ipywidgets. See https://ipywidgets.readthedocs.io/en/stable/user_install.html\n",
      "  from tqdm.autonotebook import trange\n"
     ]
    }
   ],
   "source": [
    "from PyPDF2 import PdfReader\n",
    "from langchain.text_splitter import CharacterTextSplitter, RecursiveCharacterTextSplitter\n",
    "from langchain.vectorstores import DocArrayInMemorySearch\n",
    "from langchain.document_loaders import TextLoader, PyPDFLoader\n",
    "from langchain_community.vectorstores import FAISS\n",
    "#from dotenv import load_dotenv\n",
    "from langchain_experimental.text_splitter import SemanticChunker\n",
    "import os\n",
    "from langchain.embeddings import OllamaEmbeddings\n",
    "import pdfplumber\n",
    "from langchain_community.embeddings import HuggingFaceInstructEmbeddings\n",
    "from InstructorEmbedding import INSTRUCTOR\n"
   ]
  },
  {
   "cell_type": "markdown",
   "id": "68f34c170b8d61dd",
   "metadata": {},
   "source": [
    "### Text embeddings \n",
    "\n"
   ]
  },
  {
   "cell_type": "code",
   "execution_count": 5,
   "id": "de811181f589a1c7",
   "metadata": {
    "ExecuteTime": {
     "end_time": "2024-12-04T14:31:51.015235Z",
     "start_time": "2024-12-04T14:31:47.626375Z"
    }
   },
   "outputs": [
    {
     "name": "stdout",
     "output_type": "stream",
     "text": [
      "load INSTRUCTOR_Transformer\n",
      "max_seq_length  512\n"
     ]
    },
    {
     "name": "stderr",
     "output_type": "stream",
     "text": [
      "c:\\Users\\L01257675\\Documents\\Agosto-Diciembre2021-DELL\\Ago-Diciembre2024\\CADI2025\\CADI-LLMs\\CADI_2025_LLMs\\.venv\\Lib\\site-packages\\sentence_transformers\\models\\Dense.py:63: FutureWarning: You are using `torch.load` with `weights_only=False` (the current default value), which uses the default pickle module implicitly. It is possible to construct malicious pickle data which will execute arbitrary code during unpickling (See https://github.com/pytorch/pytorch/blob/main/SECURITY.md#untrusted-models for more details). In a future release, the default value for `weights_only` will be flipped to `True`. This limits the functions that could be executed during unpickling. Arbitrary objects will no longer be allowed to be loaded via this mode unless they are explicitly allowlisted by the user via `torch.serialization.add_safe_globals`. We recommend you start setting `weights_only=True` for any use case where you don't have full control of the loaded file. Please open an issue on GitHub for any issues related to this experimental feature.\n",
      "  model.load_state_dict(torch.load(os.path.join(input_path, 'pytorch_model.bin'), map_location=torch.device('cpu')))\n"
     ]
    }
   ],
   "source": [
    "embeddings = HuggingFaceInstructEmbeddings(model_name='hkunlp/instructor-xl')\n",
    "#embeddings = OllamaEmbeddings()\n"
   ]
  },
  {
   "cell_type": "markdown",
   "id": "fe80bf94cddd3a4b",
   "metadata": {},
   "source": [
    "### Vectorstore\n",
    "\n",
    "Los embeddings se guardan en databases especiales (aquí se usa FAISS) que permiten almacenar y extraer de manera eficiente la información de los embeddings, comparando  el significado semántico de los queries con el significado semántico de las palabras almacenadas en los embeddings."
   ]
  },
  {
   "cell_type": "markdown",
   "id": "1ad801414caa05a8",
   "metadata": {},
   "source": [
    "### Carga y lee el documento pdf"
   ]
  },
  {
   "cell_type": "code",
   "execution_count": 6,
   "id": "ffd567c46dd02604",
   "metadata": {
    "ExecuteTime": {
     "end_time": "2024-12-04T14:31:59.478646Z",
     "start_time": "2024-12-04T14:31:59.476090Z"
    }
   },
   "outputs": [],
   "source": [
    "pdf_path=\"PeterPan.pdf\""
   ]
  },
  {
   "cell_type": "code",
   "execution_count": 7,
   "id": "1098989cedb45615",
   "metadata": {
    "ExecuteTime": {
     "end_time": "2024-12-04T14:32:01.865069Z",
     "start_time": "2024-12-04T14:32:01.723187Z"
    }
   },
   "outputs": [],
   "source": [
    "text =''\n",
    "with open(pdf_path,'rb') as file:\n",
    "    pdf_reader = PdfReader(file)\n",
    "    for page in pdf_reader.pages:\n",
    "        text += page.extract_text()\n"
   ]
  },
  {
   "cell_type": "code",
   "execution_count": 8,
   "id": "6699b105d9d5a808",
   "metadata": {
    "ExecuteTime": {
     "end_time": "2024-12-04T14:32:03.705858Z",
     "start_time": "2024-12-04T14:32:03.703367Z"
    }
   },
   "outputs": [
    {
     "name": "stdout",
     "output_type": "stream",
     "text": [
      "Hace tiempo, allá por 1880, vivía en la ciudad de Londres la familia Darling. Estaba \n",
      "formada por el señor y la señora Darling y sus hijos: Wendy, Michael y John. Sin \n",
      "olvidarnos de Nana, por supuesto, el perro niñera.  \n",
      " \n",
      "Vivían felices y tranquilos hasta que Peter Pan llegó a sus vidas. Todo comenzó la \n",
      "noche en que Nana tenía el día libre y la señora Darling se quedó a cargo de sus hijos. \n",
      "Cuando todos, incluida ella, estuvieron dormidos el muchacho entró por la ventana. \n",
      "Pero entonces ella se despertó  y se asustó tanto al verle que lanzó un fuerte grito. \n",
      "Entonces apareció Nana, que cerró la ventana para evitar que saliera y acabó \n",
      "atrapando su sombra. Y así fue como la sombra de Peter Pan acabó en un cajón de la \n",
      "casa de los Darling.  \n",
      " \n",
      "Una noche el señor y la señora Darling salieron a cenar a casa de los vecinos del \n",
      "número 27. Los niños se quedaron en casa al cuidado de Nana y no tardaron en \n",
      "quedarse todos dormidos.  \n",
      "Pero cuando la casa estaba en silencio, entró una diminuta hada revoloteando a gran \n",
      "velocidad y tras ella, Peter Pan, dispuesto a recuperar su sombra. La encontró en el \n",
      "cajón en el que la había guardado Nana pero se entristeció mucho cuando comprobó \n",
      "que la sombra no le seguía. Probó a pegársela con jabón pero no dio resultado y \n",
      "desesperado se se ntó en el suelo a llorar.  \n",
      " \n",
      "- ¿Quién está llorando? - preguntó Wendy, a quien despertaron los sollozos.  \n",
      "- Soy yo - contestó Peter  \n",
      "- ¿Cómo te llamas? - preguntó la niña, aunque ella estaba casi segura de saber quien \n",
      "era \n",
      "- Peter Pan  \n",
      "- ¿Y qué te pasa Peter?  \n",
      "- Que no consigo que mi sombra se me quede pegada  \n",
      "- Tranquilo. Creo que podré cosértela  \n",
      " \n",
      "Wendy ayudó a Peter y mientras los dos niños comenzaron a hacerse amigos.  \n",
      " \n",
      "- Yo vivo en el País de Nunca Jamás. Es maravilloso, allí eres siempre un niño y no \n",
      "tienes que  obedecer a nadie. Conmigo viven los Niños perdidos, ya sabes, los niños \n",
      "que caen de los carritos cuando la niñera mira a otro lado. Además hay piratas, \n",
      "hadas, indios y toda clase de seres.  \n",
      " \n",
      "Peter decía que era muy feliz allí aunque reconoció que a él y a los Niños perdidos les \n",
      "gustaría que hubiese alguien que les contara cuentos como hacía ella con sus \n",
      "hermanos. Peter le propuso ir con él al País de Nunca Jamás y a Wendy le pareció de \n",
      "inmediato una idea maravillosa.  \n",
      " \n",
      "- Pero, ¿y mis hermanos? ¿pueden venir ellos también?  \n",
      "- Si tu quieres, ¡claro!  - ¡Estupendo!  \n",
      " \n",
      "Wendy despertó a Michael y John y Peter para iniciar su viaje. Pero antes de partir \n",
      "Peter les explicó que debían aprender a volar. Les echó un poco de polvo de hada por \n",
      "encima y enseguida los tres niños comenzaron a elevarse por el aire. A t odos les \n",
      "pareció muy divertido y comenzaron a dar vueltas y más vueltas por la casa. Armaron \n",
      "tal revuelo que acabaron despertando a Nana.  \n",
      " \n",
      "Peter la oyó venir así que pudieron volver a sus camas rápidamente como si no \n",
      "hubiese pasado nada. Así, cuando la niñ era entró en la habitación creyó que los tres \n",
      "dormían plácidamente.  \n",
      " \n",
      "Pero Nana estaba intranquila y estaba casi segura de que algo raro estaba ocurriendo \n",
      "en el cuarto de los niños, de modo que corrió a avisar a los señores Darling. Pero \n",
      "cuando volvieron, l os niños ya no estaban. Los tres habían partido rumbo a Nunca \n",
      "Jamás nerviosos e ilusionados por vivir aquella fantástica aventura.  \n",
      " \n",
      "Volaron durante días atravesando océanos pero al final llegaron al país de Nunca \n",
      "Jamas.  \n",
      " \n",
      "Al primero que vieron desde el aire  fue al temible capitán Garfio, el peor enemigo de \n",
      "Peter Pan. En una lucha hacía tiempo Peter había logrado arrebatarle la mano \n",
      "derecha y por eso el pirata llevaba en su lugar ahora un garfio. Pero lo manejaba \n",
      "perfectamente y eso, unido a sus ganas de veng anza, lo hacían muy peligroso. \n",
      "Aunque había algo a lo que el capitán Garfio tenía miedo: el cocodrilo. Una vez estuvo \n",
      "a punto de comérselo y por eso ahora no quería otra cosa que no fuese él. Menos mal \n",
      "que el capitán le arrojó un reloj y por eso ahora hací a tic-tac cada vez que se \n",
      "acercaba.  \n",
      " \n",
      "Llegaron hasta el lugar donde estaban los Niños perdidos. Pero Campanilla, que \n",
      "estaba muy celosa de Wendy porque estaba todo el tiempo junto a Peter, se adelantó \n",
      "para tramar algo.  \n",
      " \n",
      "- Peter dice que ataqueis a Wendy - le dijo a los Niños perdidos.  \n",
      "- ¡De acuerdo! - contestaron todos al unísono corriendo a por sus arcos y flechas  \n",
      " \n",
      "Así que los niños comenzaron a disparar sus arcos y flechas hacia Wendy y sus \n",
      "hermanos. Pero afortunadamente no les pasó nada.  \n",
      " \n",
      "En cuanto llegó P eter detrás de todos les echó una gran bronca.  \n",
      " \n",
      "- ¿Pero qué hacéis? ¡Encima que os traigo a una madre para que os cuente cuentos la \n",
      "recibís así!  \n",
      " Los Niños perdidos, que iban vestidos con las pieles de los osos que cazaban, se \n",
      "disculparon y Peter les presentó a Wendy y a los demás.  \n",
      " \n",
      "- Estos son Tootles, Slightly, Nibs, Curly y los gemelos  \n",
      "- Hola - contestó la muchacha - Estos son mis hermanos Michae l y John y yo soy \n",
      "Wendy.  \n",
      " \n",
      "Wendy y sus hermanos decidieron quedarse allí y junto con los Niños perdidos y Peter \n",
      "formaron una gran familia que vivía feliz en su guarida subterránea.  \n",
      " \n",
      "Un día estaban los niños jugando en la laguna de las sirenas, concretamente  en la \n",
      "Roca de los Desamparados, cuando sucedió algo extraño. De repente el Sol \n",
      "desapareció por completo, se hizo de noche y entre las sombras apareció un bote \n",
      "con dos de los piratas de Garfio, Smee y Starkey, que llevaban como prisionera a la \n",
      "princesa ind ia Tigridia. Peter, Wendy y los demás se escondieron y vieron como \n",
      "arrojaban a Tigridia sobre la Roca de los Desamparados. Entonces a Peter se le \n",
      "ocurrió una idea.  \n",
      " \n",
      "- ¡Soltadla! - dijo a los piratas imitando la voz del capitán Garfio  \n",
      "- ¿Capitán? - dijeron los dos piratas mirando a todos los lados  \n",
      "- ¡Ya me habéis oído! ¡Hacedlo!  \n",
      " \n",
      "Así que los piratas cortaron las cuerdas que apresaban a la princesa. Entonces \n",
      "apareció por la laguna el capitán Garfio a bordo de su barco. Iba para contarles que \n",
      "sabía que los Niñ os perdidos habían encontrado una madre y de ninguna manera \n",
      "podían permitirlo.  \n",
      " \n",
      "- Los raptaremos, los obligaremos a lanzarse por la borda y Wendy se convertirá en \n",
      "nuestra madre.  \n",
      "- ¡Sí! ¡Es una idea estupenda capitán!, contestaron Smee y Starkey  \n",
      " \n",
      "Wendy se q uedó pálida al oír aquello y Peter, que no aguantó más callado, de nuevo \n",
      "imitó la voz de Garfio. Pero esta vez el pirata fue más listo que en otras ocasiones y \n",
      "supo que se trataba de Peter Pan. Lo encontró y luchó contra él hasta que logró \n",
      "herirlo con su g arfio, mientras los niños escapaban en el bote. Wendy se salvó gracias \n",
      "a la ayuda de las sirenas y a la cometa que Michael había perdido unos días antes y \n",
      "que apareció por allí, mientras que Peter logró sobrevivir gracias a la ayuda de la \n",
      "pájara de Nunca J amás.  \n",
      " \n",
      "Aquella aventura hizo que Peter se hiciera muy amigo de los indios pieles rojas, pues \n",
      "le estaban agradecidos por haber salvado a la princesa Tigridia y prometieron \n",
      "defenderlo con sus arcos y flechas del ataque de los piratas.  \n",
      " \n",
      "Una noche estaba Wendy  contando a los niños su cuento de antes de ir a dormir cuando habló de las madres, de lo buenas y atentas que son con sus hijos. Peter no \n",
      "estuvo de acuerdo con las ideas de Wendy y discutió con ella y al mismo tiempo los \n",
      "hermanos de la muchacha empezaron a sentir nostalgia por lo que entre todos \n",
      "decidieron que  había llegado el momento de volver a casa.  \n",
      " \n",
      "- Nos iremos esta misma noche - contestó tajante Wendy  \n",
      " \n",
      "Los Niños perdidos se sintieron muy tristes al oír esto y decidieron que se irían con \n",
      "ella. No así Peter, que de ninguna manera quería abandonar el país de  Nunca Jamás. \n",
      "Al menos se preocupó porque Campanilla y los pieles rojas acompañaran a los niños \n",
      "por el bosque en su camino de vuelta a Inglaterra.  \n",
      " \n",
      "Pero en su camino de vuelta surgieron nuevas complicaciones. Los piratas estaban al \n",
      "corriente de que iban a pasar por allí y los esperaban encaramados a los árboles del \n",
      "bosque. Los niños, y tampoco Peter Pan, se podían esperar algo así, así que los \n",
      "cogieron desprevenidos.  \n",
      " \n",
      "Mientras tanto Garfio acudió a la guarida secreta de Peter, donde el muchacho \n",
      "pasaba el ti empo en soledad haciendo ver que no le importaba haberse quedado \n",
      "solo. El pirata y se escondió dentro de un tronco y esperó a que Peter se durmiera para \n",
      "echar en un vaso que tenía el muchacho junto a su cama un poco del veneno secreto \n",
      "y mortal que siempre llevaba consigo. Esta vez conseguiría acabar con él.  \n",
      " \n",
      "Pero en mitad de la noche Campanilla llegó para contarle a Peter lo ocurrido y \n",
      "advertirle de que sabía que el capitán Garfio le había echado veneno en su vaso. Así \n",
      "que Peter salió veloz con sus armas di spuesto a rescatar a los niños.  \n",
      " \n",
      "Peter llegó hasta el barco de los piratas, el Jolly Roger, un barco siniestro en el que los \n",
      "niños estaban a punto de ser obligados a saltar por la pasarela al mar.  \n",
      " \n",
      "Los piratas estaban atando a Wendy al palo mayor en ese mo mento cuando de \n",
      "repente sonó algo que nadie esperaba... Tic- tac, tic-tac, tic-tac...  \n",
      " \n",
      "- ¡Es ese maldito cocodrilo! ¡Rápido Smee escóndeme! ¡No dejes que me coja! - gritó \n",
      "Garfio preso del pánico  \n",
      " \n",
      "Pero allí no había ningún cocodrilo, era Peter, que hábilment e se había hecho pasar \n",
      "por él. en cuanto Garfio fue a su camarote a esconderse Peter apareció en la cubierta \n",
      "del barco de un salto y empezó a acabar con los piratas uno por uno. Pero desde sus \n",
      "aposentos Garfio dejó de oír el tic -tac y creyó que el cocodrilo hab ía huido y podía \n",
      "salir de nuevo.  \n",
      " \n",
      "Al salir Garfio se encontró con varios piratas muertos. Nadie sabía qué había ocurrido \n",
      "exactamente así que todos empezaron a pensar que el barco estaba maldito pues ya se sabe que los piratas son algo supersticiosos. Estaban a punto de lanzar a Wendy \n",
      "por la borda convencidos de que era ella quien atraía a la mala suerte, cuando Peter \n",
      "salió de su escondrijo para evitarlo.  \n",
      " \n",
      "- ¡Joven descarado, prepárate para morir! – dijo Garfio  \n",
      "- ¡De eso nada maldito capitán Garfio! ¡No es mi hora sino la tuya! - contestó el \n",
      "valiente Peter Pan  \n",
      " \n",
      "Se enzarzaron en una violenta lucha de espadas y al final Garfio acabó gravemente \n",
      "herido en las costillas, tanto, que no vio salida y decidió lanza rse por la borda sin \n",
      "saber que el cocodrilo lo estaba  \n",
      " \n",
      " \n",
      " \n"
     ]
    }
   ],
   "source": [
    "print(text)"
   ]
  },
  {
   "cell_type": "markdown",
   "id": "18e973d9f166748b",
   "metadata": {},
   "source": [
    "### Divide el texto "
   ]
  },
  {
   "cell_type": "code",
   "execution_count": 9,
   "id": "25353da34d30a4e8",
   "metadata": {
    "ExecuteTime": {
     "end_time": "2024-12-04T14:32:07.012895Z",
     "start_time": "2024-12-04T14:32:07.010001Z"
    }
   },
   "outputs": [],
   "source": [
    "#text_splitter=SemanticChunker(embeddings, breakpoint_threshold_type=\"percentile\")\n",
    "text_splitter = RecursiveCharacterTextSplitter(chunk_size=1000, chunk_overlap=150)"
   ]
  },
  {
   "cell_type": "code",
   "execution_count": 10,
   "id": "f4d1b1164806d725",
   "metadata": {
    "ExecuteTime": {
     "end_time": "2024-12-04T14:32:09.236510Z",
     "start_time": "2024-12-04T14:32:09.232542Z"
    }
   },
   "outputs": [],
   "source": [
    "docs = text_splitter.split_text(text)\n",
    "    \n"
   ]
  },
  {
   "cell_type": "code",
   "execution_count": 11,
   "id": "3c4fabf18c61c53c",
   "metadata": {
    "ExecuteTime": {
     "end_time": "2024-12-04T14:32:11.789386Z",
     "start_time": "2024-12-04T14:32:11.783638Z"
    }
   },
   "outputs": [
    {
     "data": {
      "text/plain": [
       "list"
      ]
     },
     "execution_count": 11,
     "metadata": {},
     "output_type": "execute_result"
    }
   ],
   "source": [
    "type(docs)"
   ]
  },
  {
   "cell_type": "code",
   "execution_count": 12,
   "id": "8c01f89c563dff99",
   "metadata": {
    "ExecuteTime": {
     "end_time": "2024-12-04T14:32:14.623608Z",
     "start_time": "2024-12-04T14:32:14.619041Z"
    }
   },
   "outputs": [
    {
     "data": {
      "text/plain": [
       "12"
      ]
     },
     "execution_count": 12,
     "metadata": {},
     "output_type": "execute_result"
    }
   ],
   "source": [
    "len(docs)"
   ]
  },
  {
   "cell_type": "code",
   "execution_count": 13,
   "id": "450a5696af94749a",
   "metadata": {
    "ExecuteTime": {
     "end_time": "2024-12-04T14:32:16.887387Z",
     "start_time": "2024-12-04T14:32:16.883469Z"
    }
   },
   "outputs": [
    {
     "data": {
      "text/plain": [
       "'Hace tiempo, allá por 1880, vivía en la ciudad de Londres la familia Darling. Estaba \\nformada por el señor y la señora Darling y sus hijos: Wendy, Michael y John. Sin \\nolvidarnos de Nana, por supuesto, el perro niñera.  \\n \\nVivían felices y tranquilos hasta que Peter Pan llegó a sus vidas. Todo comenzó la \\nnoche en que Nana tenía el día libre y la señora Darling se quedó a cargo de sus hijos. \\nCuando todos, incluida ella, estuvieron dormidos el muchacho entró por la ventana. \\nPero entonces ella se despertó  y se asustó tanto al verle que lanzó un fuerte grito. \\nEntonces apareció Nana, que cerró la ventana para evitar que saliera y acabó \\natrapando su sombra. Y así fue como la sombra de Peter Pan acabó en un cajón de la \\ncasa de los Darling.  \\n \\nUna noche el señor y la señora Darling salieron a cenar a casa de los vecinos del \\nnúmero 27. Los niños se quedaron en casa al cuidado de Nana y no tardaron en \\nquedarse todos dormidos.'"
      ]
     },
     "execution_count": 13,
     "metadata": {},
     "output_type": "execute_result"
    }
   ],
   "source": [
    "docs[0]"
   ]
  },
  {
   "cell_type": "code",
   "execution_count": 14,
   "id": "80205f8a850026b1",
   "metadata": {
    "ExecuteTime": {
     "end_time": "2024-12-04T14:32:19.994279Z",
     "start_time": "2024-12-04T14:32:19.989903Z"
    }
   },
   "outputs": [
    {
     "data": {
      "text/plain": [
       "'número 27. Los niños se quedaron en casa al cuidado de Nana y no tardaron en \\nquedarse todos dormidos.  \\nPero cuando la casa estaba en silencio, entró una diminuta hada revoloteando a gran \\nvelocidad y tras ella, Peter Pan, dispuesto a recuperar su sombra. La encontró en el \\ncajón en el que la había guardado Nana pero se entristeció mucho cuando comprobó \\nque la sombra no le seguía. Probó a pegársela con jabón pero no dio resultado y \\ndesesperado se se ntó en el suelo a llorar.  \\n \\n- ¿Quién está llorando? - preguntó Wendy, a quien despertaron los sollozos.  \\n- Soy yo - contestó Peter  \\n- ¿Cómo te llamas? - preguntó la niña, aunque ella estaba casi segura de saber quien \\nera \\n- Peter Pan  \\n- ¿Y qué te pasa Peter?  \\n- Que no consigo que mi sombra se me quede pegada  \\n- Tranquilo. Creo que podré cosértela  \\n \\nWendy ayudó a Peter y mientras los dos niños comenzaron a hacerse amigos.  \\n \\n- Yo vivo en el País de Nunca Jamás. Es maravilloso, allí eres siempre un niño y no'"
      ]
     },
     "execution_count": 14,
     "metadata": {},
     "output_type": "execute_result"
    }
   ],
   "source": [
    "docs[1]"
   ]
  },
  {
   "cell_type": "markdown",
   "id": "36302a7c760de07a",
   "metadata": {},
   "source": []
  },
  {
   "cell_type": "markdown",
   "id": "efbca0f0dbb45ce8",
   "metadata": {},
   "source": [
    "### Crea el vectorstore"
   ]
  },
  {
   "cell_type": "code",
   "execution_count": 16,
   "id": "654754889afdf02c",
   "metadata": {
    "ExecuteTime": {
     "end_time": "2024-12-04T14:34:33.214831Z",
     "start_time": "2024-12-04T14:34:05.173938Z"
    }
   },
   "outputs": [],
   "source": [
    "vectorstore = FAISS.from_texts(docs, embeddings)\n"
   ]
  },
  {
   "cell_type": "markdown",
   "id": "401910360c5ed6b1",
   "metadata": {},
   "source": [
    "### Guardar el vectorstore\n"
   ]
  },
  {
   "cell_type": "code",
   "execution_count": null,
   "id": "8d9583543a279a85",
   "metadata": {},
   "outputs": [],
   "source": [
    "vectorstore.save_local(\"faiss_index\")"
   ]
  },
  {
   "cell_type": "markdown",
   "id": "64476d7f4a149c92",
   "metadata": {},
   "source": [
    "### Cargar el vectorstore"
   ]
  },
  {
   "cell_type": "code",
   "execution_count": null,
   "id": "14dd4db11afe45b0",
   "metadata": {},
   "outputs": [],
   "source": [
    "vectorstore = FAISS.load_local(\"faiss_index\",embeddings=embeddings,allow_dangerous_deserialization=True)\n"
   ]
  }
 ],
 "metadata": {
  "kernelspec": {
   "display_name": ".venv",
   "language": "python",
   "name": "python3"
  },
  "language_info": {
   "codemirror_mode": {
    "name": "ipython",
    "version": 3
   },
   "file_extension": ".py",
   "mimetype": "text/x-python",
   "name": "python",
   "nbconvert_exporter": "python",
   "pygments_lexer": "ipython3",
   "version": "3.11.9"
  }
 },
 "nbformat": 4,
 "nbformat_minor": 5
}
