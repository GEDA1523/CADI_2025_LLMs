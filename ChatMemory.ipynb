{
 "cells": [
  {
   "metadata": {},
   "cell_type": "markdown",
   "source": [
    "## Chat memory\n",
    "\n",
    "En la siguiente práctica aprenderás cómo agregar memoria a tu chat. En el ejemplo que sigue verás que el modelo lllm no tiene memoria de tus preguntas anteriores:"
   ],
   "id": "16e1f5c9159e9bb6"
  },
  {
   "cell_type": "code",
   "id": "initial_id",
   "metadata": {
    "collapsed": true,
    "ExecuteTime": {
     "end_time": "2024-11-26T17:12:01.649823Z",
     "start_time": "2024-11-26T17:11:59.631642Z"
    }
   },
   "source": [
    "from langchain_core.messages import HumanMessage\n",
    "from langchain_ollama import ChatOllama\n",
    "from langchain_core.output_parsers import StrOutputParser\n",
    "\n",
    "local_llm = 'llama3.2:3b-instruct-fp16'\n",
    "llm = ChatOllama(model=local_llm, temperature=0)\n",
    "parser = StrOutputParser()\n",
    "\n",
    "chain = llm | parser\n",
    "\n",
    "chain.invoke([HumanMessage(content=\"Hi! I'm Bob\")])"
   ],
   "outputs": [
    {
     "data": {
      "text/plain": [
       "\"Hello Bob! It's nice to meet you. Is there something I can help you with, or would you like to chat?\""
      ]
     },
     "execution_count": 4,
     "metadata": {},
     "output_type": "execute_result"
    }
   ],
   "execution_count": 4
  },
  {
   "metadata": {
    "ExecuteTime": {
     "end_time": "2024-11-26T17:13:25.355952Z",
     "start_time": "2024-11-26T17:13:21.743297Z"
    }
   },
   "cell_type": "code",
   "source": "chain.invoke([HumanMessage(content=\"What's my name?\")])",
   "id": "96fe5776695a62db",
   "outputs": [
    {
     "data": {
      "text/plain": [
       "\"I don't have any information about your name. I'm a large language model, I don't retain personal data or keep track of individual users. Each time you interact with me, it's a new conversation and I don't have any prior knowledge about you. Would you like to tell me your name?\""
      ]
     },
     "execution_count": 7,
     "metadata": {},
     "output_type": "execute_result"
    }
   ],
   "execution_count": 7
  },
  {
   "metadata": {},
   "cell_type": "markdown",
   "source": "El modelo no \"se acuerda\" de lo platicado antes. La memoria es representada por todas las interacciones anteriores. Si vuelves a hacer la pregunta, incluyendo los mensajes anteriores, el modelo podrá interactuar como en una conversación entre humanos.",
   "id": "35dcb6c156f71194"
  },
  {
   "metadata": {
    "ExecuteTime": {
     "end_time": "2024-11-26T17:22:30.448778Z",
     "start_time": "2024-11-26T17:22:28.233664Z"
    }
   },
   "cell_type": "code",
   "source": [
    "from langchain_core.messages import AIMessage\n",
    "\n",
    "chain.invoke(\n",
    "    [\n",
    "        HumanMessage(content=\"Hi! I'm Bob\"),\n",
    "        AIMessage(content=\"Hello Bob! How can I assist you today?\"),\n",
    "        HumanMessage(content=\"What's my name?\"),\n",
    "    ]\n",
    ")"
   ],
   "id": "ad969f18107dd460",
   "outputs": [
    {
     "data": {
      "text/plain": [
       "'Your name is Bob.'"
      ]
     },
     "execution_count": 10,
     "metadata": {},
     "output_type": "execute_result"
    }
   ],
   "execution_count": 10
  },
  {
   "metadata": {},
   "cell_type": "code",
   "outputs": [],
   "execution_count": null,
   "source": "",
   "id": "33eafc14bb920148"
  }
 ],
 "metadata": {
  "kernelspec": {
   "display_name": "Python 3",
   "language": "python",
   "name": "python3"
  },
  "language_info": {
   "codemirror_mode": {
    "name": "ipython",
    "version": 2
   },
   "file_extension": ".py",
   "mimetype": "text/x-python",
   "name": "python",
   "nbconvert_exporter": "python",
   "pygments_lexer": "ipython2",
   "version": "2.7.6"
  }
 },
 "nbformat": 4,
 "nbformat_minor": 5
}
