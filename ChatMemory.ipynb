{
 "cells": [
  {
   "cell_type": "markdown",
   "id": "16e1f5c9159e9bb6",
   "metadata": {},
   "source": [
    "## Chat memory\n",
    "\n",
    "En la siguiente práctica aprenderás cómo agregar memoria a tu chat. En el ejemplo que sigue verás que el modelo lllm no tiene memoria de tus preguntas anteriores:"
   ]
  },
  {
   "cell_type": "code",
   "execution_count": 1,
   "id": "3e6b704b",
   "metadata": {},
   "outputs": [
    {
     "name": "stdout",
     "output_type": "stream",
     "text": [
      "Requirement already satisfied: langchain-core==0.3.21 in c:\\users\\l01257675\\documents\\agosto-diciembre2021-dell\\ago-diciembre2024\\cadi2025\\cadi-llms\\cadi_2025_llms\\.venv\\lib\\site-packages (0.3.21)\n",
      "Requirement already satisfied: langchain-ollama==0.2.0 in c:\\users\\l01257675\\documents\\agosto-diciembre2021-dell\\ago-diciembre2024\\cadi2025\\cadi-llms\\cadi_2025_llms\\.venv\\lib\\site-packages (0.2.0)\n",
      "Requirement already satisfied: PyYAML>=5.3 in c:\\users\\l01257675\\documents\\agosto-diciembre2021-dell\\ago-diciembre2024\\cadi2025\\cadi-llms\\cadi_2025_llms\\.venv\\lib\\site-packages (from langchain-core==0.3.21) (6.0.2)\n",
      "Requirement already satisfied: jsonpatch<2.0,>=1.33 in c:\\users\\l01257675\\documents\\agosto-diciembre2021-dell\\ago-diciembre2024\\cadi2025\\cadi-llms\\cadi_2025_llms\\.venv\\lib\\site-packages (from langchain-core==0.3.21) (1.33)\n",
      "Requirement already satisfied: langsmith<0.2.0,>=0.1.125 in c:\\users\\l01257675\\documents\\agosto-diciembre2021-dell\\ago-diciembre2024\\cadi2025\\cadi-llms\\cadi_2025_llms\\.venv\\lib\\site-packages (from langchain-core==0.3.21) (0.1.147)\n",
      "Requirement already satisfied: packaging<25,>=23.2 in c:\\users\\l01257675\\documents\\agosto-diciembre2021-dell\\ago-diciembre2024\\cadi2025\\cadi-llms\\cadi_2025_llms\\.venv\\lib\\site-packages (from langchain-core==0.3.21) (24.2)\n",
      "Requirement already satisfied: pydantic<3.0.0,>=2.5.2 in c:\\users\\l01257675\\documents\\agosto-diciembre2021-dell\\ago-diciembre2024\\cadi2025\\cadi-llms\\cadi_2025_llms\\.venv\\lib\\site-packages (from langchain-core==0.3.21) (2.10.4)\n",
      "Requirement already satisfied: tenacity!=8.4.0,<10.0.0,>=8.1.0 in c:\\users\\l01257675\\documents\\agosto-diciembre2021-dell\\ago-diciembre2024\\cadi2025\\cadi-llms\\cadi_2025_llms\\.venv\\lib\\site-packages (from langchain-core==0.3.21) (9.0.0)\n",
      "Requirement already satisfied: typing-extensions>=4.7 in c:\\users\\l01257675\\documents\\agosto-diciembre2021-dell\\ago-diciembre2024\\cadi2025\\cadi-llms\\cadi_2025_llms\\.venv\\lib\\site-packages (from langchain-core==0.3.21) (4.12.2)\n",
      "Requirement already satisfied: ollama<1,>=0.3.0 in c:\\users\\l01257675\\documents\\agosto-diciembre2021-dell\\ago-diciembre2024\\cadi2025\\cadi-llms\\cadi_2025_llms\\.venv\\lib\\site-packages (from langchain-ollama==0.2.0) (0.4.4)\n",
      "Requirement already satisfied: jsonpointer>=1.9 in c:\\users\\l01257675\\documents\\agosto-diciembre2021-dell\\ago-diciembre2024\\cadi2025\\cadi-llms\\cadi_2025_llms\\.venv\\lib\\site-packages (from jsonpatch<2.0,>=1.33->langchain-core==0.3.21) (3.0.0)\n",
      "Requirement already satisfied: httpx<1,>=0.23.0 in c:\\users\\l01257675\\documents\\agosto-diciembre2021-dell\\ago-diciembre2024\\cadi2025\\cadi-llms\\cadi_2025_llms\\.venv\\lib\\site-packages (from langsmith<0.2.0,>=0.1.125->langchain-core==0.3.21) (0.27.2)\n",
      "Requirement already satisfied: orjson<4.0.0,>=3.9.14 in c:\\users\\l01257675\\documents\\agosto-diciembre2021-dell\\ago-diciembre2024\\cadi2025\\cadi-llms\\cadi_2025_llms\\.venv\\lib\\site-packages (from langsmith<0.2.0,>=0.1.125->langchain-core==0.3.21) (3.10.12)\n",
      "Requirement already satisfied: requests<3,>=2 in c:\\users\\l01257675\\documents\\agosto-diciembre2021-dell\\ago-diciembre2024\\cadi2025\\cadi-llms\\cadi_2025_llms\\.venv\\lib\\site-packages (from langsmith<0.2.0,>=0.1.125->langchain-core==0.3.21) (2.32.3)\n",
      "Requirement already satisfied: requests-toolbelt<2.0.0,>=1.0.0 in c:\\users\\l01257675\\documents\\agosto-diciembre2021-dell\\ago-diciembre2024\\cadi2025\\cadi-llms\\cadi_2025_llms\\.venv\\lib\\site-packages (from langsmith<0.2.0,>=0.1.125->langchain-core==0.3.21) (1.0.0)\n",
      "Requirement already satisfied: annotated-types>=0.6.0 in c:\\users\\l01257675\\documents\\agosto-diciembre2021-dell\\ago-diciembre2024\\cadi2025\\cadi-llms\\cadi_2025_llms\\.venv\\lib\\site-packages (from pydantic<3.0.0,>=2.5.2->langchain-core==0.3.21) (0.7.0)\n",
      "Requirement already satisfied: pydantic-core==2.27.2 in c:\\users\\l01257675\\documents\\agosto-diciembre2021-dell\\ago-diciembre2024\\cadi2025\\cadi-llms\\cadi_2025_llms\\.venv\\lib\\site-packages (from pydantic<3.0.0,>=2.5.2->langchain-core==0.3.21) (2.27.2)\n",
      "Requirement already satisfied: anyio in c:\\users\\l01257675\\documents\\agosto-diciembre2021-dell\\ago-diciembre2024\\cadi2025\\cadi-llms\\cadi_2025_llms\\.venv\\lib\\site-packages (from httpx<1,>=0.23.0->langsmith<0.2.0,>=0.1.125->langchain-core==0.3.21) (4.7.0)\n",
      "Requirement already satisfied: certifi in c:\\users\\l01257675\\documents\\agosto-diciembre2021-dell\\ago-diciembre2024\\cadi2025\\cadi-llms\\cadi_2025_llms\\.venv\\lib\\site-packages (from httpx<1,>=0.23.0->langsmith<0.2.0,>=0.1.125->langchain-core==0.3.21) (2024.12.14)\n",
      "Requirement already satisfied: httpcore==1.* in c:\\users\\l01257675\\documents\\agosto-diciembre2021-dell\\ago-diciembre2024\\cadi2025\\cadi-llms\\cadi_2025_llms\\.venv\\lib\\site-packages (from httpx<1,>=0.23.0->langsmith<0.2.0,>=0.1.125->langchain-core==0.3.21) (1.0.7)\n",
      "Requirement already satisfied: idna in c:\\users\\l01257675\\documents\\agosto-diciembre2021-dell\\ago-diciembre2024\\cadi2025\\cadi-llms\\cadi_2025_llms\\.venv\\lib\\site-packages (from httpx<1,>=0.23.0->langsmith<0.2.0,>=0.1.125->langchain-core==0.3.21) (3.10)\n",
      "Requirement already satisfied: sniffio in c:\\users\\l01257675\\documents\\agosto-diciembre2021-dell\\ago-diciembre2024\\cadi2025\\cadi-llms\\cadi_2025_llms\\.venv\\lib\\site-packages (from httpx<1,>=0.23.0->langsmith<0.2.0,>=0.1.125->langchain-core==0.3.21) (1.3.1)\n",
      "Requirement already satisfied: h11<0.15,>=0.13 in c:\\users\\l01257675\\documents\\agosto-diciembre2021-dell\\ago-diciembre2024\\cadi2025\\cadi-llms\\cadi_2025_llms\\.venv\\lib\\site-packages (from httpcore==1.*->httpx<1,>=0.23.0->langsmith<0.2.0,>=0.1.125->langchain-core==0.3.21) (0.14.0)\n",
      "Requirement already satisfied: charset-normalizer<4,>=2 in c:\\users\\l01257675\\documents\\agosto-diciembre2021-dell\\ago-diciembre2024\\cadi2025\\cadi-llms\\cadi_2025_llms\\.venv\\lib\\site-packages (from requests<3,>=2->langsmith<0.2.0,>=0.1.125->langchain-core==0.3.21) (3.4.1)\n",
      "Requirement already satisfied: urllib3<3,>=1.21.1 in c:\\users\\l01257675\\documents\\agosto-diciembre2021-dell\\ago-diciembre2024\\cadi2025\\cadi-llms\\cadi_2025_llms\\.venv\\lib\\site-packages (from requests<3,>=2->langsmith<0.2.0,>=0.1.125->langchain-core==0.3.21) (2.3.0)\n"
     ]
    }
   ],
   "source": [
    "!pip install langchain-core==0.3.21 langchain-ollama==0.2.0"
   ]
  },
  {
   "cell_type": "code",
   "execution_count": 2,
   "id": "initial_id",
   "metadata": {
    "ExecuteTime": {
     "end_time": "2024-11-26T17:12:01.649823Z",
     "start_time": "2024-11-26T17:11:59.631642Z"
    },
    "collapsed": true
   },
   "outputs": [
    {
     "data": {
      "text/plain": [
       "\"Hi Bob! It's nice to meet you. Is there something on your mind that you'd like to chat about, or are you just looking for some friendly conversation? I'm here to listen and help if I can.\""
      ]
     },
     "execution_count": 2,
     "metadata": {},
     "output_type": "execute_result"
    }
   ],
   "source": [
    "from langchain_core.messages import HumanMessage\n",
    "from langchain_ollama import ChatOllama\n",
    "from langchain_core.output_parsers import StrOutputParser\n",
    "\n",
    "local_llm = 'llama3'\n",
    "llm = ChatOllama(model=local_llm, temperature=0)\n",
    "parser = StrOutputParser()\n",
    "\n",
    "chain = llm | parser\n",
    "\n",
    "chain.invoke([HumanMessage(content=\"Hi! I'm Bob\")])"
   ]
  },
  {
   "cell_type": "code",
   "execution_count": 3,
   "id": "96fe5776695a62db",
   "metadata": {
    "ExecuteTime": {
     "end_time": "2024-11-26T17:13:25.355952Z",
     "start_time": "2024-11-26T17:13:21.743297Z"
    }
   },
   "outputs": [
    {
     "data": {
      "text/plain": [
       "\"I'm afraid I don't know your name! As a conversational AI, I don't have any prior knowledge about you or your identity. Each time you interact with me, it's like starting fresh! Would you like to introduce yourself and tell me your name?\""
      ]
     },
     "execution_count": 3,
     "metadata": {},
     "output_type": "execute_result"
    }
   ],
   "source": [
    "chain.invoke([HumanMessage(content=\"What's my name?\")])"
   ]
  },
  {
   "cell_type": "markdown",
   "id": "35dcb6c156f71194",
   "metadata": {},
   "source": [
    "El modelo no \"se acuerda\" de lo platicado antes. La memoria es representada por todas las interacciones anteriores. Si vuelves a hacer la pregunta, incluyendo los mensajes anteriores, el modelo podrá interactuar como en una conversación entre humanos."
   ]
  },
  {
   "cell_type": "code",
   "execution_count": 4,
   "id": "ad969f18107dd460",
   "metadata": {
    "ExecuteTime": {
     "end_time": "2024-11-26T17:22:30.448778Z",
     "start_time": "2024-11-26T17:22:28.233664Z"
    }
   },
   "outputs": [
    {
     "data": {
      "text/plain": [
       "'Your name is Bob, according to our conversation so far!'"
      ]
     },
     "execution_count": 4,
     "metadata": {},
     "output_type": "execute_result"
    }
   ],
   "source": [
    "from langchain_core.messages import AIMessage\n",
    "\n",
    "chain.invoke(\n",
    "    [\n",
    "        HumanMessage(content=\"Hi! I'm Bob\"),\n",
    "        AIMessage(content=\"Hello Bob! How can I assist you today?\"),\n",
    "        HumanMessage(content=\"What's my name?\"),\n",
    "    ]\n",
    ")"
   ]
  },
  {
   "cell_type": "code",
   "execution_count": null,
   "id": "33eafc14bb920148",
   "metadata": {},
   "outputs": [],
   "source": []
  }
 ],
 "metadata": {
  "kernelspec": {
   "display_name": ".venv",
   "language": "python",
   "name": "python3"
  },
  "language_info": {
   "codemirror_mode": {
    "name": "ipython",
    "version": 3
   },
   "file_extension": ".py",
   "mimetype": "text/x-python",
   "name": "python",
   "nbconvert_exporter": "python",
   "pygments_lexer": "ipython3",
   "version": "3.11.9"
  }
 },
 "nbformat": 4,
 "nbformat_minor": 5
}
