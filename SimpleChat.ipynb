{
 "cells": [
  {
   "metadata": {},
   "cell_type": "markdown",
   "source": "",
   "id": "d67e9b1c7cdfc1ff"
  },
  {
   "metadata": {},
   "cell_type": "markdown",
   "source": "## Creación de un simple ChatBot que interactúa con llama 3.2",
   "id": "f6e475e3d015d0dc"
  },
  {
   "metadata": {},
   "cell_type": "markdown",
   "source": "### 1. Librerías",
   "id": "3ee809484ba7879e"
  },
  {
   "metadata": {
    "ExecuteTime": {
     "end_time": "2024-11-21T19:50:56.686095Z",
     "start_time": "2024-11-21T19:50:56.060193Z"
    }
   },
   "cell_type": "code",
   "source": [
    "from langchain_core.messages import HumanMessage, SystemMessage\n",
    "from langchain_ollama import ChatOllama\n",
    "from langchain_core.output_parsers import StrOutputParser\n",
    "from langchain_core.prompts import ChatPromptTemplate"
   ],
   "id": "b3d2707c728a2d18",
   "outputs": [
    {
     "name": "stderr",
     "output_type": "stream",
     "text": [
      "/Users/elisabetta/PycharmProjects/CADI_2025_llm/venv/lib/python3.9/site-packages/urllib3/__init__.py:35: NotOpenSSLWarning: urllib3 v2 only supports OpenSSL 1.1.1+, currently the 'ssl' module is compiled with 'LibreSSL 2.8.3'. See: https://github.com/urllib3/urllib3/issues/3020\n",
      "  warnings.warn(\n"
     ]
    }
   ],
   "execution_count": 1
  },
  {
   "metadata": {},
   "cell_type": "markdown",
   "source": "## 2. Large language model",
   "id": "2ddf26fb11c3b0d"
  },
  {
   "metadata": {},
   "cell_type": "markdown",
   "source": [
    "Hay diferentes modelos que se pueden usar. La mayoría necesita un \"API KEY\":\n",
    "\n",
    "ChatOpenAI, ChatAnthropic, ChatVertexAI, ChatCohere, ChatNVIDIA, ChatGroq, ChatMistralAI\n",
    "\n",
    "Existen otros modelos en la plataforma HUGGINGFACE.\n",
    "\n",
    "Para la mayoría de los modelos hay que definir una variable de entorno:\n",
    "\n",
    "------------------------------------------------------------------------------\n",
    "import getpass\n",
    "\n",
    "import os\n",
    "\n",
    "export OPENAI_API_KEY=\"...\"\n",
    "\n",
    "os.environ[\"OPENAI_API_KEY\"] = getpass.getpass()\n",
    "\n",
    "from langchain_openai import ChatOpenAI\n",
    "\n",
    "model = ChatOpenAI(model=\"gpt-4\")\n",
    "\n",
    "------------------------------------------------------------------------------\n",
    "\n",
    "Usando Ollama en local no es necesario definir variables de entorno. \n"
   ],
   "id": "77ab209c5e57c5d3"
  },
  {
   "metadata": {
    "collapsed": true,
    "ExecuteTime": {
     "end_time": "2024-11-21T19:51:29.667040Z",
     "start_time": "2024-11-21T19:51:29.646351Z"
    }
   },
   "cell_type": "code",
   "source": [
    "local_llm = 'llama3.2:3b-instruct-fp16'\n",
    "llm = ChatOllama(model=local_llm, temperature=0)"
   ],
   "id": "initial_id",
   "outputs": [],
   "execution_count": 2
  },
  {
   "metadata": {},
   "cell_type": "markdown",
   "source": [
    "Algunos de los parámetros más importantes que se deben/pueden especificar:\n",
    "\n",
    "-**model**: el nombre del modelo específico que se quiere usar (por ejemplo, para ChatOpenAI puede ser \"gpt-3.5-turbo\" o \"gpt-4\")\n",
    "\n",
    "**temperature**: controla la aleatoriedad de la respuesta (y la capacidad \"generativa\"), el valor mínimo es 0 (muy baja aleatoriedad y creatividad).\n",
    "\n",
    "**timeout**: el máximo tiempo de espera para obtener la respuesta\n",
    "\n",
    "**max_tokens**: es un número que limita el valor máximo de palabra y puntuación en la respuesta.\n",
    "\n",
    "**api_key**: el api key del usuario\n",
    "\n",
    "No todos los modelos admiten los mismos parámetros."
   ],
   "id": "46ca09143b4658d2"
  },
  {
   "metadata": {},
   "cell_type": "markdown",
   "source": [
    "Métodos clave del modelo de chat:\n",
    "\n",
    "-**invoke**: El método principal para interactuar con un modelo de chat. Acepta una lista de mensajes como entrada y devuelve una lista de mensajes como salida.\n",
    "\n",
    "-**stream**: Un método que permite transmitir la salida de un modelo de chat a medida que se genera.\n",
    "\n",
    "-**batch**: Un método que permite agrupar varias solicitudes a un modelo de chat para su procesamiento eficiente.\n",
    "\n",
    "-**bind_tools**: Un método que permite vincular una herramienta a un modelo de chat para su uso en el contexto de ejecución del modelo.\n",
    "\n",
    "-**with_structured_output**: Un envoltorio alrededor del método invoke para modelos que admiten natively salida estructurada.\n"
   ],
   "id": "fc276cd940e2d89e"
  },
  {
   "metadata": {
    "ExecuteTime": {
     "end_time": "2024-11-21T19:56:11.458246Z",
     "start_time": "2024-11-21T19:56:06.271833Z"
    }
   },
   "cell_type": "code",
   "source": [
    "messages= 'Hola, traduce al inglés: hola'\n",
    "llm.invoke(messages)"
   ],
   "id": "3cb68249f90d9421",
   "outputs": [
    {
     "data": {
      "text/plain": [
       "AIMessage(content='The translation of \"hola\" to English is:\\n\\nHello.', additional_kwargs={}, response_metadata={'model': 'llama3.2:3b-instruct-fp16', 'created_at': '2024-11-21T19:56:11.443261Z', 'message': {'role': 'assistant', 'content': ''}, 'done_reason': 'stop', 'done': True, 'total_duration': 5157296209, 'load_duration': 4361056375, 'prompt_eval_count': 35, 'prompt_eval_duration': 114757000, 'eval_count': 14, 'eval_duration': 678958000}, id='run-17831a6b-2ba3-4523-8076-468ea41b9601-0', usage_metadata={'input_tokens': 35, 'output_tokens': 14, 'total_tokens': 49})"
      ]
     },
     "execution_count": 4,
     "metadata": {},
     "output_type": "execute_result"
    }
   ],
   "execution_count": 4
  },
  {
   "metadata": {},
   "cell_type": "markdown",
   "source": "",
   "id": "aa1b84ad75b25a89"
  },
  {
   "metadata": {},
   "cell_type": "markdown",
   "source": [
    "### 3. Mensajes\n",
    "\n",
    "Un mensaje suele consistir en las siguientes piezas de información:\n",
    "\n",
    "-**Rol**: El rol del mensaje (por ejemplo, \"usuario\", \"asistente\").\n",
    "\n",
    "-**Contenido**: El contenido del mensaje (por ejemplo, texto, datos multimodales).\n",
    "\n",
    "-**Metadatos adicionales**: id, nombre, uso de tokens y otros metadatos específicos del modelo.\n",
    "\n",
    "Rol\n",
    "Los roles se utilizan para distinguir entre diferentes tipos de mensajes en una conversación y ayudar al modelo de chat a entender cómo responder a una secuencia determinada de mensajes.\n",
    "\n",
    "\n",
    "\n",
    "\n",
    "\n"
   ],
   "id": "e6c4a70a22679655"
  },
  {
   "metadata": {
    "ExecuteTime": {
     "end_time": "2024-11-21T19:59:40.630742Z",
     "start_time": "2024-11-21T19:59:40.627809Z"
    }
   },
   "cell_type": "code",
   "source": [
    "messages = [\n",
    "    SystemMessage(content=\"Translate the following from english to spanish\"),\n",
    "    HumanMessage(content=\"Hi\"),\n",
    "]\n"
   ],
   "id": "d2e7721f8ee3daea",
   "outputs": [],
   "execution_count": 5
  },
  {
   "metadata": {},
   "cell_type": "markdown",
   "source": "Se puede usar un \"parser\" para escribir la respuesta sin metedatos:",
   "id": "d0b40ea6efd755e7"
  },
  {
   "metadata": {
    "ExecuteTime": {
     "end_time": "2024-11-21T20:01:04.397393Z",
     "start_time": "2024-11-21T20:01:03.205263Z"
    }
   },
   "cell_type": "code",
   "source": [
    "parser = StrOutputParser()\n",
    "result = llm.invoke(messages)\n",
    "parser.invoke(result)"
   ],
   "id": "e856039318cc1f4b",
   "outputs": [
    {
     "data": {
      "text/plain": [
       "'Hola'"
      ]
     },
     "execution_count": 7,
     "metadata": {},
     "output_type": "execute_result"
    }
   ],
   "execution_count": 7
  },
  {
   "metadata": {},
   "cell_type": "markdown",
   "source": "Se pueden juntar el modelo y el parser en una \"chain\":",
   "id": "f8226eaac7f614b7"
  },
  {
   "metadata": {
    "ExecuteTime": {
     "end_time": "2024-11-21T20:01:25.164581Z",
     "start_time": "2024-11-21T20:01:24.358762Z"
    }
   },
   "cell_type": "code",
   "source": [
    "chain = llm | parser\n",
    "chain.invoke(messages)"
   ],
   "id": "e77666759cdde8df",
   "outputs": [
    {
     "data": {
      "text/plain": [
       "'Hola'"
      ]
     },
     "execution_count": 8,
     "metadata": {},
     "output_type": "execute_result"
    }
   ],
   "execution_count": 8
  },
  {
   "metadata": {},
   "cell_type": "markdown",
   "source": [
    "**Temperature**\n",
    "\n",
    "Repetimos 5 veces la pregunta \"Escribe un color cualquiera\" y analizamos las respuestas para diferentes valores del parámetro \"temperature\". Para un valor de temperature=0:\n"
   ],
   "id": "8417bbf15244e2f6"
  },
  {
   "metadata": {
    "ExecuteTime": {
     "end_time": "2024-11-21T20:13:24.537977Z",
     "start_time": "2024-11-21T20:13:18.876665Z"
    }
   },
   "cell_type": "code",
   "source": [
    "messages = 'Hola, escribe un color cualquiera'\n",
    "llm = ChatOllama(model=local_llm, temperature=0)\n",
    "chain = llm | parser\n",
    "for i in range(5):\n",
    "    print(chain.invoke(messages))\n"
   ],
   "id": "88a691e0fd7d8349",
   "outputs": [
    {
     "name": "stdout",
     "output_type": "stream",
     "text": [
      "El color que te voy a escribir es... **azul**.\n",
      "El color que te voy a escribir es... **azul**.\n",
      "El color que te voy a escribir es... **azul**.\n",
      "El color que te voy a escribir es... **azul**.\n",
      "El color que te voy a escribir es... **azul**.\n"
     ]
    }
   ],
   "execution_count": 26
  },
  {
   "metadata": {},
   "cell_type": "markdown",
   "source": "Para el valor temperature=1:",
   "id": "c10e6899eab795f"
  },
  {
   "metadata": {
    "ExecuteTime": {
     "end_time": "2024-11-21T20:14:35.435018Z",
     "start_time": "2024-11-21T20:14:26.332131Z"
    }
   },
   "cell_type": "code",
   "source": [
    "messages = 'Hola, escribe un color cualquiera\"\n",
    "llm = ChatOllama(model=local_llm, temperature=1)\n",
    "chain = llm | parser\n",
    "for i in range(5):\n",
    "    print(chain.invoke(messages))"
   ],
   "id": "e78d574fa7e94211",
   "outputs": [
    {
     "name": "stdout",
     "output_type": "stream",
     "text": [
      "Azul.\n",
      "Turquesa.\n",
      "El color que te voy a escribir es... **azul**.\n",
      "**Tuspa**\n",
      "\n",
      "Un color vibrante y emotivo que evoca una sensación de energía y creatividad.\n",
      "**Rojo**\n",
      "\n",
      "¿Te gusta el rojo? Es uno de los colores más vibrantes y emocionales que hay en el espectro visible. El rojo es una combinación perfecta de energía y pasión, y suele asociarse con sentimientos fuertes como el amor, la intensidad y la creatividad.\n",
      "\n",
      "¿Quieres saber más sobre el significado del color rojo o tienes alguna pregunta relacionada?\n"
     ]
    }
   ],
   "execution_count": 27
  },
  {
   "metadata": {},
   "cell_type": "markdown",
   "source": [
    "**top-k y top-P**\n",
    "\n",
    "Al igual que la temperatura, los parámetros top-K y top-P también se utilizan para controlar la diversidad de la salida del modelo.\n",
    "\n",
    "Top-K es un número entero positivo que define la cantidad de tokens más probables de los cuales seleccionar el token de salida. Un top-K de 1 selecciona un solo token.\n",
    "\n",
    "Top-P define el umbral de probabilidad que, una vez excedido de forma acumulativa, los tokens dejan de ser seleccionados como candidatos. Un top-P de 0 es equivalente típicamente al top K con k=1, y un top-P de 1 selecciona típicamente todos los tokens en el vocabulario del modelo.\n",
    "\n",
    "Ejecute este ejemplo varias veces, cambie la configuración y observe el cambio en la salida.\n",
    " \n",
    "- top k =64  top_p = 0.95\n",
    "\n",
    "- top k=1 top_p =0"
   ],
   "id": "648613d13e4eb6db"
  },
  {
   "metadata": {
    "ExecuteTime": {
     "end_time": "2024-11-21T20:26:17.419229Z",
     "start_time": "2024-11-21T20:25:42.739272Z"
    }
   },
   "cell_type": "code",
   "source": [
    "messages = \"You are a creative writer. Write a short story about a cat who goes on an adventure\"\n",
    "llm = ChatOllama(model=local_llm, temperature=1, top_k=64,\n",
    "        top_p=0.95)\n",
    "chain = llm | parser\n",
    "print(chain.invoke(messages))"
   ],
   "id": "520ba039b748d467",
   "outputs": [
    {
     "name": "stdout",
     "output_type": "stream",
     "text": [
      "**The Whispering Woods**\n",
      "\n",
      "Whiskers, the curious cat, stood at the threshold of her cozy home, paw on the doorframe, as if hesitating to leave. Her tail twitched with excitement and caution, like two antennae tuning into the whispers of the universe. The moon cast a silver glow outside, illuminating the windowsill where the morning sunlight had left its mark.\n",
      "\n",
      "Without warning, Whiskers sprang from the comfort of her doorstep, tail in tow, as if swept by an unseen force. She padded silently across the porch and vanished into the heart of the Whispering Woods.\n",
      "\n",
      "The forest was alive with the secrets it kept within its ancient boughs and whispering leaves. The air vibrated with whispers – murmurs from creatures great and small – each sharing tales of long-forgotten deeds, love stories, and mysteries veiled in mist. Whiskers followed the siren's call, her ears perked up like satellite dishes tuning into a hidden frequency.\n",
      "\n",
      "As she wandered deeper, the trees grew taller and closer together, their branches intertwined above her head. Shafts of moonlight broke through the canopy, casting dappled shadows on the forest floor. Whiskers navigated with an air of feline confidence, though every now and then, she'd pause to listen and inhale.\n",
      "\n",
      "She stumbled upon a clearing where creatures from dreams gathered. A great stag stood sentinel, his antlers shining in moonlight, while a fox, once mortal, now a shape-shifter's friend, danced alongside a tiny fairy no bigger than Whiskers' paw. They welcomed her with whispers of gratitude and shared tales of their adventures.\n",
      "\n",
      "A breeze rustled the leaves as a fabled cat appeared before her – Purrfectia, an ancient matriarch whose whiskers held secrets of the past and eyes that shone like stars on moonlit nights. The elder cat regarded Whiskers, as if sizing up the fledgling's bravery.\n",
      "\n",
      "Whiskers stood poised, ears erect, sensing a gateway to knowledge hidden within these whispers and stories. Without needing words, Purrfectia shared with a mere touch of her whisker that this forest held an ancient secret – the one hidden path that led beyond mortal limits. The feline companion gifted Whiskers a whispered password: _Echoes of Eternity_.\n",
      "\n",
      "Within seconds, Whiskers felt transformed, as if the whispers had imbued her with secrets of old. Her eyes now shone like moonlit shadows on stone walls, knowing she was bound to keep these whispers hidden – sharing them when they were needed by those brave enough to search.\n",
      "\n",
      "When dawn crept over the horizon, painting the forest in hues of sunrise and golden twilight, Whiskers padded back to her doorstep, silent as a ghost. As if awakening from a dream, she stepped onto the porch, looked around curiously, then took a moment to smile.\n",
      "\n",
      "Her home beckoned once more, but now her heart was no longer whole – only half-satisfied by what lay hidden within Whispering Woods and the secrets shared with her as an honored guest of the unknown.\n"
     ]
    }
   ],
   "execution_count": 30
  },
  {
   "metadata": {
    "ExecuteTime": {
     "end_time": "2024-11-21T20:27:29.516198Z",
     "start_time": "2024-11-21T20:26:39.268207Z"
    }
   },
   "cell_type": "code",
   "source": [
    "messages = \"You are a creative writer. Write a short story about a cat who goes on an adventure\"\n",
    "llm = ChatOllama(model=local_llm, temperature=1, top_k=1,\n",
    "        top_p=0)\n",
    "chain = llm | parser\n",
    "print(chain.invoke(messages))"
   ],
   "id": "8c29fb6084bd0966",
   "outputs": [
    {
     "name": "stdout",
     "output_type": "stream",
     "text": [
      "**The Whiskered Wanderer**\n",
      "\n",
      "In the sleepy town of Willowdale, where sunbeams danced through the windows and dust motes waltzed in the air, a sleek black cat named Midnight prowled the streets. Her eyes gleamed like polished onyx as she padded silently from house to house, searching for adventure.\n",
      "\n",
      "Midnight's owner, an elderly lady named Mrs. Jenkins, had grown fond of her mischievous ways and often left treats and toys scattered about the house. But tonight, Midnight yearned for something more – a taste of freedom, a dash of excitement.\n",
      "\n",
      "As she slipped out into the night air, the world came alive around her. Fireflies twinkled like tiny lanterns, casting a magical glow over the cobblestone streets. The scent of blooming flowers wafted on the breeze, enticing Midnight to explore further.\n",
      "\n",
      "She padded through alleys and side streets, weaving past sleeping dogs and snoring cats. Her ears perked up at every sound – a chirping cricket, a hooting owl, or the distant rumble of thunder. With each step, Midnight felt her whiskers twitching with anticipation.\n",
      "\n",
      "As she wandered deeper into the town, Midnight stumbled upon a hidden path she had never seen before. The air grew thick with the scent of damp earth and moss, and the trees seemed to lean in, as if sharing a secret. Without hesitation, Midnight followed the winding trail, her paws padding softly on the forest floor.\n",
      "\n",
      "The trees grew taller and closer together here, casting dappled shadows across the ground. Midnight's eyes adjusted to the dim light, and she spotted a glint of silver in the distance – a small stream, its surface reflecting the starry sky above.\n",
      "\n",
      "Without hesitation, Midnight plunged into the water, sending ripples through the calm surface. She paddled with her front paws, feeling the cool liquid envelop her fur. As she swam, the world around her dissolved into a kaleidoscope of colors and sounds – the chirping of crickets, the rustling of leaves, and the gentle lapping of water against her ears.\n",
      "\n",
      "For a moment, Midnight forgot about Mrs. Jenkins, the treats, and the comforts of home. She was free, untethered by the constraints of everyday life. The stream became her own personal highway, carrying her to unknown destinations and hidden wonders.\n",
      "\n",
      "As she swam further downstream, Midnight spotted a family of otters playing in the shallows. They welcomed her with open arms – or rather, open paws – and invited her to join their game of chase-the-fish. Midnight laughed, a throaty purr rumbling deep within her chest, as she chased after the slippery creatures.\n",
      "\n",
      "Eventually, the sun began to rise, casting a golden glow over the forest. Midnight reluctantly bid farewell to her new friends and continued downstream, following the stream until it merged with a larger river.\n",
      "\n",
      "As she emerged from the water, shaking off excess droplets, Midnight spotted a majestic castle rising above the trees – its towers reaching for the clouds like giant's fists. The wind whispered secrets in her ear, and Midnight felt an inexplicable pull towards the ancient structure.\n",
      "\n",
      "Without hesitation, she padded up the winding path, her tail twitching with excitement. As she reached the entrance, a pair of stone lions gazed down at her, their eyes gleaming with a knowing intelligence. Midnight pushed open the massive doors, and a warm light spilled out, bathing her in its radiance.\n",
      "\n",
      "Inside, she discovered a labyrinthine library filled with ancient tomes and mysterious artifacts. The air was thick with the scent of parchment and knowledge. Midnight's whiskers twitched as she explored the shelves, uncovering secrets hidden within the pages of forgotten books.\n",
      "\n",
      "As the sun climbed higher in the sky, casting long shadows across the castle walls, Midnight realized it was time to return home. She bid farewell to the library, promising to keep its secrets safe, and began her journey back through the forest.\n",
      "\n",
      "The stream had changed course overnight, but Midnight navigated its twists and turns with ease, guided by the memories of her adventure. As she emerged from the trees, Mrs. Jenkins welcomed her with open arms, a warm smile on her face.\n",
      "\n",
      "\"Midnight, where have you been?\" she asked, scratching behind the cat's ears.\n",
      "\n",
      "Midnight purred contentedly, her eyes gleaming with a secret knowledge. She knew that some adventures were meant to remain hidden, but others – like this one – would stay with her forever, etched in the whispers of her whiskers and the beat of her heart.\n"
     ]
    }
   ],
   "execution_count": 31
  },
  {
   "metadata": {
    "ExecuteTime": {
     "end_time": "2024-11-21T20:30:45.480944Z",
     "start_time": "2024-11-21T20:29:54.503023Z"
    }
   },
   "cell_type": "code",
   "source": [
    "messages = \"You are a creative writer. Write a short story about a cat who goes on an adventure\"\n",
    "llm = ChatOllama(model=local_llm, temperature=1, top_k=5,\n",
    "        top_p=0)\n",
    "chain = llm | parser\n",
    "print(chain.invoke(messages))"
   ],
   "id": "a7d135ca719b6130",
   "outputs": [
    {
     "name": "stdout",
     "output_type": "stream",
     "text": [
      "**The Whiskered Wanderer**\n",
      "\n",
      "In the sleepy town of Willowdale, where sunbeams danced through the windows and dust motes waltzed in the air, a sleek black cat named Midnight prowled the streets. Her eyes gleamed like polished onyx as she padded silently from house to house, searching for adventure.\n",
      "\n",
      "Midnight's owner, an elderly lady named Mrs. Jenkins, had grown fond of her mischievous ways and often left treats and toys scattered about the house. But tonight, Midnight yearned for something more – a taste of freedom, a dash of excitement.\n",
      "\n",
      "As she slipped out into the night air, the world came alive around her. Fireflies twinkled like tiny lanterns, casting a magical glow over the cobblestone streets. The scent of blooming flowers wafted on the breeze, enticing Midnight to explore further.\n",
      "\n",
      "She padded through alleys and side streets, weaving past sleeping dogs and snoring cats. Her ears perked up at every sound – a chirping cricket, a hooting owl, or the distant rumble of thunder. With each step, Midnight felt her whiskers twitching with anticipation.\n",
      "\n",
      "As she wandered deeper into the town, Midnight stumbled upon a hidden path she had never seen before. The air grew thick with the scent of damp earth and moss, and the trees seemed to lean in, as if sharing a secret. Without hesitation, Midnight followed the winding trail, her paws padding softly on the forest floor.\n",
      "\n",
      "The trees grew taller and closer together here, casting dappled shadows across the ground. Midnight's eyes adjusted to the dim light, and she spotted a glint of silver in the distance – a small stream, its surface reflecting the starry sky above.\n",
      "\n",
      "Without hesitation, Midnight plunged into the water, sending ripples through the calm surface. She paddled with her front paws, feeling the cool liquid envelop her fur. As she swam, the world around her dissolved into a kaleidoscope of colors and sounds – the chirping of crickets, the rustling of leaves, and the gentle lapping of water against her ears.\n",
      "\n",
      "For a moment, Midnight forgot about Mrs. Jenkins, the treats, and the comforts of home. She was free, untethered by the constraints of everyday life. The stream became her own personal highway, carrying her to unknown destinations and hidden wonders.\n",
      "\n",
      "As she swam further downstream, Midnight spotted a family of otters playing in the shallows. They welcomed her with open arms – or rather, open paws – and invited her to join their game of chase-the-fish. Midnight laughed, a throaty purr rumbling deep within her chest, as she chased after the slippery creatures.\n",
      "\n",
      "Eventually, the sun began to rise, casting a golden glow over the forest. Midnight reluctantly bid farewell to her new friends and continued downstream, following the stream until it merged with a larger river.\n",
      "\n",
      "As she emerged from the water, shaking off excess droplets, Midnight spotted a majestic castle rising above the trees – its towers reaching for the clouds like giant's fists. The wind whispered secrets in her ear, and Midnight felt an inexplicable pull towards the ancient structure.\n",
      "\n",
      "Without hesitation, she padded up the winding path, her tail twitching with excitement. As she reached the entrance, a pair of stone lions gazed down at her, their eyes gleaming with a knowing intelligence. Midnight pushed open the massive doors, and a warm light spilled out, bathing her in its radiance.\n",
      "\n",
      "Inside, she discovered a labyrinthine library filled with ancient tomes and mysterious artifacts. The air was thick with the scent of parchment and knowledge. Midnight's whiskers twitched as she explored the shelves, uncovering secrets hidden within the pages of forgotten books.\n",
      "\n",
      "As the sun climbed higher in the sky, casting long shadows across the castle walls, Midnight realized it was time to return home. She bid farewell to the library, promising to keep its secrets safe, and began her journey back through the forest.\n",
      "\n",
      "The stream had changed course overnight, but Midnight navigated its twists and turns with ease, guided by the memories of her adventure. As she emerged from the trees, Mrs. Jenkins welcomed her with open arms, a warm smile on her face.\n",
      "\n",
      "\"Midnight, where have you been?\" she asked, scratching behind the cat's ears.\n",
      "\n",
      "Midnight purred contentedly, her eyes gleaming with a secret knowledge. She knew that some adventures were meant to remain hidden, but others – like this one – would stay with her forever, etched in the whispers of her whiskers and the beat of her heart.\n"
     ]
    }
   ],
   "execution_count": 32
  },
  {
   "metadata": {},
   "cell_type": "markdown",
   "source": [
    "## 2. Prompt templates\n",
    "\n",
    "Si se quieren hacer preguntas siempre del mismo tipo, dando las mismas instrucciones al sustema, se pueden definir \"prompt templates\", que pueden contener variables, definidas entre {}."
   ],
   "id": "2feecf481711e508"
  },
  {
   "metadata": {
    "ExecuteTime": {
     "end_time": "2024-11-21T20:05:13.245816Z",
     "start_time": "2024-11-21T20:05:13.242267Z"
    }
   },
   "cell_type": "code",
   "source": "system_template = \"Translate the following into {language}, write only the translated word:\"",
   "id": "8328963faa7b4f92",
   "outputs": [],
   "execution_count": 18
  },
  {
   "metadata": {
    "ExecuteTime": {
     "end_time": "2024-11-21T20:53:20.103655Z",
     "start_time": "2024-11-21T20:53:20.100003Z"
    }
   },
   "cell_type": "code",
   "source": [
    "prompt_template = ChatPromptTemplate.from_messages(\n",
    "    [(\"system\", system_template), (\"user\", \"{text}\")]\n",
    ")"
   ],
   "id": "7997d3031ff3b160",
   "outputs": [],
   "execution_count": 35
  },
  {
   "metadata": {
    "ExecuteTime": {
     "end_time": "2024-11-21T20:53:21.633014Z",
     "start_time": "2024-11-21T20:53:21.618308Z"
    }
   },
   "cell_type": "code",
   "source": [
    "llm = ChatOllama(model=local_llm, temperature=0)\n",
    "result = prompt_template.invoke({\"language\": \"italian\", \"text\": \"hi\"})\n",
    "result"
   ],
   "id": "931e2e513973b3a2",
   "outputs": [
    {
     "data": {
      "text/plain": [
       "ChatPromptValue(messages=[SystemMessage(content='Translate the following into italian, write only the translated word:', additional_kwargs={}, response_metadata={}), HumanMessage(content='hi', additional_kwargs={}, response_metadata={})])"
      ]
     },
     "execution_count": 36,
     "metadata": {},
     "output_type": "execute_result"
    }
   ],
   "execution_count": 36
  },
  {
   "metadata": {
    "ExecuteTime": {
     "end_time": "2024-11-21T20:53:25.711320Z",
     "start_time": "2024-11-21T20:53:25.706511Z"
    }
   },
   "cell_type": "code",
   "source": "chain = prompt_template | llm | parser",
   "id": "c3782042470db8cb",
   "outputs": [],
   "execution_count": 37
  },
  {
   "metadata": {
    "ExecuteTime": {
     "end_time": "2024-11-21T20:53:32.121166Z",
     "start_time": "2024-11-21T20:53:27.501663Z"
    }
   },
   "cell_type": "code",
   "source": [
    "chain.invoke({\"language\": \"italian\", \"text\": \"hi\"})\n",
    "\n"
   ],
   "id": "5fb8794710829214",
   "outputs": [
    {
     "data": {
      "text/plain": [
       "'Ciao'"
      ]
     },
     "execution_count": 38,
     "metadata": {},
     "output_type": "execute_result"
    }
   ],
   "execution_count": 38
  },
  {
   "metadata": {
    "ExecuteTime": {
     "end_time": "2024-11-21T20:53:47.718716Z",
     "start_time": "2024-11-21T20:53:45.841225Z"
    }
   },
   "cell_type": "code",
   "source": [
    "prompt_template = ChatPromptTemplate([\n",
    "    (\"system\", \"You are a helpful assistant\"),\n",
    "    (\"user\", \"Tell me a joke about {topic}\")\n",
    "])\n",
    "\n",
    "chain = prompt_template | llm | parser\n",
    "chain.invoke({\"topic\": \"cats\"})"
   ],
   "id": "84ee819fef100606",
   "outputs": [
    {
     "data": {
      "text/plain": [
       "'Why did the cat join a band?\\n\\nBecause it wanted to be the purr-cussionist!'"
      ]
     },
     "execution_count": 40,
     "metadata": {},
     "output_type": "execute_result"
    }
   ],
   "execution_count": 40
  },
  {
   "metadata": {},
   "cell_type": "markdown",
   "source": "",
   "id": "dd2854038925b328"
  }
 ],
 "metadata": {
  "kernelspec": {
   "display_name": "Python 3",
   "language": "python",
   "name": "python3"
  },
  "language_info": {
   "codemirror_mode": {
    "name": "ipython",
    "version": 2
   },
   "file_extension": ".py",
   "mimetype": "text/x-python",
   "name": "python",
   "nbconvert_exporter": "python",
   "pygments_lexer": "ipython2",
   "version": "2.7.6"
  }
 },
 "nbformat": 4,
 "nbformat_minor": 5
}
