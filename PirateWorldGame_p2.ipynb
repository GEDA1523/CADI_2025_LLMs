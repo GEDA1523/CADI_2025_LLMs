{
 "cells": [
  {
   "cell_type": "markdown",
   "metadata": {},
   "source": [
    "# Load the world and start the game"
   ]
  },
  {
   "cell_type": "code",
   "execution_count": 1,
   "metadata": {},
   "outputs": [
    {
     "name": "stdout",
     "output_type": "stream",
     "text": [
      "Requirement already satisfied: langchain==0.3.9 in c:\\users\\l01257675\\documents\\agosto-diciembre2021-dell\\ago-diciembre2024\\cadi2025\\cadi-llms\\cadi_2025_llms\\.venv\\lib\\site-packages (0.3.9)\n",
      "Requirement already satisfied: langchain-core==0.3.21 in c:\\users\\l01257675\\documents\\agosto-diciembre2021-dell\\ago-diciembre2024\\cadi2025\\cadi-llms\\cadi_2025_llms\\.venv\\lib\\site-packages (0.3.21)\n",
      "Requirement already satisfied: langchain-ollama==0.2.0 in c:\\users\\l01257675\\documents\\agosto-diciembre2021-dell\\ago-diciembre2024\\cadi2025\\cadi-llms\\cadi_2025_llms\\.venv\\lib\\site-packages (0.2.0)\n",
      "Requirement already satisfied: PyYAML>=5.3 in c:\\users\\l01257675\\documents\\agosto-diciembre2021-dell\\ago-diciembre2024\\cadi2025\\cadi-llms\\cadi_2025_llms\\.venv\\lib\\site-packages (from langchain==0.3.9) (6.0.2)\n",
      "Requirement already satisfied: SQLAlchemy<3,>=1.4 in c:\\users\\l01257675\\documents\\agosto-diciembre2021-dell\\ago-diciembre2024\\cadi2025\\cadi-llms\\cadi_2025_llms\\.venv\\lib\\site-packages (from langchain==0.3.9) (2.0.36)\n",
      "Requirement already satisfied: aiohttp<4.0.0,>=3.8.3 in c:\\users\\l01257675\\documents\\agosto-diciembre2021-dell\\ago-diciembre2024\\cadi2025\\cadi-llms\\cadi_2025_llms\\.venv\\lib\\site-packages (from langchain==0.3.9) (3.11.11)\n",
      "Requirement already satisfied: langchain-text-splitters<0.4.0,>=0.3.0 in c:\\users\\l01257675\\documents\\agosto-diciembre2021-dell\\ago-diciembre2024\\cadi2025\\cadi-llms\\cadi_2025_llms\\.venv\\lib\\site-packages (from langchain==0.3.9) (0.3.2)\n",
      "Requirement already satisfied: langsmith<0.2.0,>=0.1.17 in c:\\users\\l01257675\\documents\\agosto-diciembre2021-dell\\ago-diciembre2024\\cadi2025\\cadi-llms\\cadi_2025_llms\\.venv\\lib\\site-packages (from langchain==0.3.9) (0.1.147)\n",
      "Requirement already satisfied: numpy<2,>=1.22.4 in c:\\users\\l01257675\\documents\\agosto-diciembre2021-dell\\ago-diciembre2024\\cadi2025\\cadi-llms\\cadi_2025_llms\\.venv\\lib\\site-packages (from langchain==0.3.9) (1.26.4)\n",
      "Requirement already satisfied: pydantic<3.0.0,>=2.7.4 in c:\\users\\l01257675\\documents\\agosto-diciembre2021-dell\\ago-diciembre2024\\cadi2025\\cadi-llms\\cadi_2025_llms\\.venv\\lib\\site-packages (from langchain==0.3.9) (2.10.4)\n",
      "Requirement already satisfied: requests<3,>=2 in c:\\users\\l01257675\\documents\\agosto-diciembre2021-dell\\ago-diciembre2024\\cadi2025\\cadi-llms\\cadi_2025_llms\\.venv\\lib\\site-packages (from langchain==0.3.9) (2.32.3)\n",
      "Requirement already satisfied: tenacity!=8.4.0,<10,>=8.1.0 in c:\\users\\l01257675\\documents\\agosto-diciembre2021-dell\\ago-diciembre2024\\cadi2025\\cadi-llms\\cadi_2025_llms\\.venv\\lib\\site-packages (from langchain==0.3.9) (9.0.0)\n",
      "Requirement already satisfied: jsonpatch<2.0,>=1.33 in c:\\users\\l01257675\\documents\\agosto-diciembre2021-dell\\ago-diciembre2024\\cadi2025\\cadi-llms\\cadi_2025_llms\\.venv\\lib\\site-packages (from langchain-core==0.3.21) (1.33)\n",
      "Requirement already satisfied: packaging<25,>=23.2 in c:\\users\\l01257675\\documents\\agosto-diciembre2021-dell\\ago-diciembre2024\\cadi2025\\cadi-llms\\cadi_2025_llms\\.venv\\lib\\site-packages (from langchain-core==0.3.21) (24.2)\n",
      "Requirement already satisfied: typing-extensions>=4.7 in c:\\users\\l01257675\\documents\\agosto-diciembre2021-dell\\ago-diciembre2024\\cadi2025\\cadi-llms\\cadi_2025_llms\\.venv\\lib\\site-packages (from langchain-core==0.3.21) (4.12.2)\n",
      "Requirement already satisfied: ollama<1,>=0.3.0 in c:\\users\\l01257675\\documents\\agosto-diciembre2021-dell\\ago-diciembre2024\\cadi2025\\cadi-llms\\cadi_2025_llms\\.venv\\lib\\site-packages (from langchain-ollama==0.2.0) (0.4.4)\n",
      "Requirement already satisfied: aiohappyeyeballs>=2.3.0 in c:\\users\\l01257675\\documents\\agosto-diciembre2021-dell\\ago-diciembre2024\\cadi2025\\cadi-llms\\cadi_2025_llms\\.venv\\lib\\site-packages (from aiohttp<4.0.0,>=3.8.3->langchain==0.3.9) (2.4.4)\n",
      "Requirement already satisfied: aiosignal>=1.1.2 in c:\\users\\l01257675\\documents\\agosto-diciembre2021-dell\\ago-diciembre2024\\cadi2025\\cadi-llms\\cadi_2025_llms\\.venv\\lib\\site-packages (from aiohttp<4.0.0,>=3.8.3->langchain==0.3.9) (1.3.2)\n",
      "Requirement already satisfied: attrs>=17.3.0 in c:\\users\\l01257675\\documents\\agosto-diciembre2021-dell\\ago-diciembre2024\\cadi2025\\cadi-llms\\cadi_2025_llms\\.venv\\lib\\site-packages (from aiohttp<4.0.0,>=3.8.3->langchain==0.3.9) (24.3.0)\n",
      "Requirement already satisfied: frozenlist>=1.1.1 in c:\\users\\l01257675\\documents\\agosto-diciembre2021-dell\\ago-diciembre2024\\cadi2025\\cadi-llms\\cadi_2025_llms\\.venv\\lib\\site-packages (from aiohttp<4.0.0,>=3.8.3->langchain==0.3.9) (1.5.0)\n",
      "Requirement already satisfied: multidict<7.0,>=4.5 in c:\\users\\l01257675\\documents\\agosto-diciembre2021-dell\\ago-diciembre2024\\cadi2025\\cadi-llms\\cadi_2025_llms\\.venv\\lib\\site-packages (from aiohttp<4.0.0,>=3.8.3->langchain==0.3.9) (6.1.0)\n",
      "Requirement already satisfied: propcache>=0.2.0 in c:\\users\\l01257675\\documents\\agosto-diciembre2021-dell\\ago-diciembre2024\\cadi2025\\cadi-llms\\cadi_2025_llms\\.venv\\lib\\site-packages (from aiohttp<4.0.0,>=3.8.3->langchain==0.3.9) (0.2.1)\n",
      "Requirement already satisfied: yarl<2.0,>=1.17.0 in c:\\users\\l01257675\\documents\\agosto-diciembre2021-dell\\ago-diciembre2024\\cadi2025\\cadi-llms\\cadi_2025_llms\\.venv\\lib\\site-packages (from aiohttp<4.0.0,>=3.8.3->langchain==0.3.9) (1.18.3)\n",
      "Requirement already satisfied: jsonpointer>=1.9 in c:\\users\\l01257675\\documents\\agosto-diciembre2021-dell\\ago-diciembre2024\\cadi2025\\cadi-llms\\cadi_2025_llms\\.venv\\lib\\site-packages (from jsonpatch<2.0,>=1.33->langchain-core==0.3.21) (3.0.0)\n",
      "Requirement already satisfied: httpx<1,>=0.23.0 in c:\\users\\l01257675\\documents\\agosto-diciembre2021-dell\\ago-diciembre2024\\cadi2025\\cadi-llms\\cadi_2025_llms\\.venv\\lib\\site-packages (from langsmith<0.2.0,>=0.1.17->langchain==0.3.9) (0.27.2)\n",
      "Requirement already satisfied: orjson<4.0.0,>=3.9.14 in c:\\users\\l01257675\\documents\\agosto-diciembre2021-dell\\ago-diciembre2024\\cadi2025\\cadi-llms\\cadi_2025_llms\\.venv\\lib\\site-packages (from langsmith<0.2.0,>=0.1.17->langchain==0.3.9) (3.10.12)\n",
      "Requirement already satisfied: requests-toolbelt<2.0.0,>=1.0.0 in c:\\users\\l01257675\\documents\\agosto-diciembre2021-dell\\ago-diciembre2024\\cadi2025\\cadi-llms\\cadi_2025_llms\\.venv\\lib\\site-packages (from langsmith<0.2.0,>=0.1.17->langchain==0.3.9) (1.0.0)\n",
      "Requirement already satisfied: annotated-types>=0.6.0 in c:\\users\\l01257675\\documents\\agosto-diciembre2021-dell\\ago-diciembre2024\\cadi2025\\cadi-llms\\cadi_2025_llms\\.venv\\lib\\site-packages (from pydantic<3.0.0,>=2.7.4->langchain==0.3.9) (0.7.0)\n",
      "Requirement already satisfied: pydantic-core==2.27.2 in c:\\users\\l01257675\\documents\\agosto-diciembre2021-dell\\ago-diciembre2024\\cadi2025\\cadi-llms\\cadi_2025_llms\\.venv\\lib\\site-packages (from pydantic<3.0.0,>=2.7.4->langchain==0.3.9) (2.27.2)\n",
      "Requirement already satisfied: charset-normalizer<4,>=2 in c:\\users\\l01257675\\documents\\agosto-diciembre2021-dell\\ago-diciembre2024\\cadi2025\\cadi-llms\\cadi_2025_llms\\.venv\\lib\\site-packages (from requests<3,>=2->langchain==0.3.9) (3.4.1)\n",
      "Requirement already satisfied: idna<4,>=2.5 in c:\\users\\l01257675\\documents\\agosto-diciembre2021-dell\\ago-diciembre2024\\cadi2025\\cadi-llms\\cadi_2025_llms\\.venv\\lib\\site-packages (from requests<3,>=2->langchain==0.3.9) (3.10)\n",
      "Requirement already satisfied: urllib3<3,>=1.21.1 in c:\\users\\l01257675\\documents\\agosto-diciembre2021-dell\\ago-diciembre2024\\cadi2025\\cadi-llms\\cadi_2025_llms\\.venv\\lib\\site-packages (from requests<3,>=2->langchain==0.3.9) (2.3.0)\n",
      "Requirement already satisfied: certifi>=2017.4.17 in c:\\users\\l01257675\\documents\\agosto-diciembre2021-dell\\ago-diciembre2024\\cadi2025\\cadi-llms\\cadi_2025_llms\\.venv\\lib\\site-packages (from requests<3,>=2->langchain==0.3.9) (2024.12.14)\n",
      "Requirement already satisfied: greenlet!=0.4.17 in c:\\users\\l01257675\\documents\\agosto-diciembre2021-dell\\ago-diciembre2024\\cadi2025\\cadi-llms\\cadi_2025_llms\\.venv\\lib\\site-packages (from SQLAlchemy<3,>=1.4->langchain==0.3.9) (3.1.1)\n",
      "Requirement already satisfied: anyio in c:\\users\\l01257675\\documents\\agosto-diciembre2021-dell\\ago-diciembre2024\\cadi2025\\cadi-llms\\cadi_2025_llms\\.venv\\lib\\site-packages (from httpx<1,>=0.23.0->langsmith<0.2.0,>=0.1.17->langchain==0.3.9) (4.7.0)\n",
      "Requirement already satisfied: httpcore==1.* in c:\\users\\l01257675\\documents\\agosto-diciembre2021-dell\\ago-diciembre2024\\cadi2025\\cadi-llms\\cadi_2025_llms\\.venv\\lib\\site-packages (from httpx<1,>=0.23.0->langsmith<0.2.0,>=0.1.17->langchain==0.3.9) (1.0.7)\n",
      "Requirement already satisfied: sniffio in c:\\users\\l01257675\\documents\\agosto-diciembre2021-dell\\ago-diciembre2024\\cadi2025\\cadi-llms\\cadi_2025_llms\\.venv\\lib\\site-packages (from httpx<1,>=0.23.0->langsmith<0.2.0,>=0.1.17->langchain==0.3.9) (1.3.1)\n",
      "Requirement already satisfied: h11<0.15,>=0.13 in c:\\users\\l01257675\\documents\\agosto-diciembre2021-dell\\ago-diciembre2024\\cadi2025\\cadi-llms\\cadi_2025_llms\\.venv\\lib\\site-packages (from httpcore==1.*->httpx<1,>=0.23.0->langsmith<0.2.0,>=0.1.17->langchain==0.3.9) (0.14.0)\n"
     ]
    }
   ],
   "source": [
    "!pip install langchain==0.3.9 langchain-core==0.3.21 langchain-ollama==0.2.0\n"
   ]
  },
  {
   "cell_type": "code",
   "execution_count": 2,
   "metadata": {},
   "outputs": [],
   "source": [
    "from langchain_core.messages import HumanMessage, SystemMessage\n",
    "from langchain_ollama import ChatOllama\n",
    "from langchain_core.output_parsers import StrOutputParser\n",
    "from langchain_core.prompts import ChatPromptTemplate\n",
    "from langchain_core.output_parsers import JsonOutputParser\n",
    "from langchain_core.prompts import PromptTemplate\n",
    "from langchain.memory import ConversationBufferMemory\n",
    "from langchain.chains import ConversationChain\n"
   ]
  },
  {
   "cell_type": "code",
   "execution_count": 3,
   "metadata": {},
   "outputs": [
    {
     "name": "stdout",
     "output_type": "stream",
     "text": [
      "{'World': [{'WorldName': 'Mares de la Furia', 'WorldDesc': 'Un mundo donde los piratas y sus barcos dominan el mar', 'IslanD1': [{'Island1Name': 'Isla del Viento', 'Island1Desc': 'Una isla rodeada de fuertes vientos y aguas turbulentas', 'Town1Name': 'Puerto del Viento', 'Town1Desc': 'Un pueblo pequeño pero apasionado, donde los piratas se refugian después de una larga jornada', 'Char1NameTown1': 'Cristina del Mar', 'Char1DescTown1': 'Una navegadora experimentada y astuta', 'Char1RoleTown1': 'Capitana del puerto', 'Char2NameTown1': 'Mateo el Feroz', 'Char2DescTown1': 'Un pirata despiadado y fuerte', 'Char2RoleTown1': 'Líder de los piratas'}]}, {'IslanD2': [{'Island2Name': 'Isla de las Gemas', 'Island2Desc': 'Una isla cubierta de joyas y tesoros ocultos', 'Town2Name': 'Villa de la Reina', 'Town2Desc': 'Un pueblo lujoso y rico, donde los dueños de las gemas viven en opulencia', 'Char1NameTown2': 'Isabel de la Marea', 'Char1DescTown2': 'Una reina sabia y justa', 'Char1RoleTown2': 'Reina de la isla', 'Char2NameTown2': 'Luis el Cauteloso', 'Char2DescTown2': 'Un aventurero prudente y astuto', 'Char2RoleTown2': 'Hermano de la reina'}]}, {'IslanD3': [{'Island3Name': 'Isla del Fuego', 'Island3Desc': 'Una isla rodeada de lava y erupciones', 'Town3Name': 'Ciudad del Fuego', 'Town3Desc': 'Un pueblo en constante peligro por las erupciones, pero donde los valientes se refugian', 'Char1NameTown3': 'Jorge el Afortunado', 'Char1DescTown3': 'Un luchador valiente y suerte', 'Char1RoleTown3': 'Líder de la ciudad', 'Char2NameTown3': 'Eva la Sabia', 'Char2DescTown3': 'Una médica astuta y experimentada', 'Char2RoleTown3': 'Médica de la ciudad'}]}], 'start': 'Eres Mateo el Feroz, un pirata despiadado y fuerte. Como líder de los piratas, has pasado años conquistando el mar y amasando una gran fortuna. Tu nombre es temido en todo Puerto del Viento, donde has encontrado refugio después de una larga jornada.\\n\\nTe encuentras en el puerto, rodeado por la actividad frenética de las actividades diarias. Los marineros y las mujeres están preparando los barcos para la próxima salida, mientras que los mercaderes cambian monedas y negocios a escondidas. El viento golpea con fuerza contra tus mejillas, pero tú no te preocupas por él, sabiendo que tu tripulación de piratas es capaz de vencer cualquier tempestad.\\n\\nFrente a ti, el gran patio del puerto está repleto de barcos anclados y barracones. Al fondo, el castillo de Cristina del Mar, la capitana del puerto, se alza como una torre imponente. Ella es tu aliada y tu enemiga a la vez, y no puedes evitar sentir que sus ojos están sobre ti.\\n\\n¿Qué deseas hacer?'}\n"
     ]
    }
   ],
   "source": [
    "import json\n",
    "with open('PirateWorld.json', 'r') as file:\n",
    "    world = json.load(file)\n",
    "print(world) "
   ]
  },
  {
   "cell_type": "code",
   "execution_count": 8,
   "metadata": {},
   "outputs": [
    {
     "data": {
      "text/plain": [
       "{'WorldName': 'Mares de la Furia',\n",
       " 'WorldDesc': 'Un mundo donde los piratas y sus barcos dominan el mar',\n",
       " 'IslanD1': [{'Island1Name': 'Isla del Viento',\n",
       "   'Island1Desc': 'Una isla rodeada de fuertes vientos y aguas turbulentas',\n",
       "   'Town1Name': 'Puerto del Viento',\n",
       "   'Town1Desc': 'Un pueblo pequeño pero apasionado, donde los piratas se refugian después de una larga jornada',\n",
       "   'Char1NameTown1': 'Cristina del Mar',\n",
       "   'Char1DescTown1': 'Una navegadora experimentada y astuta',\n",
       "   'Char1RoleTown1': 'Capitana del puerto',\n",
       "   'Char2NameTown1': 'Mateo el Feroz',\n",
       "   'Char2DescTown1': 'Un pirata despiadado y fuerte',\n",
       "   'Char2RoleTown1': 'Líder de los piratas'}]}"
      ]
     },
     "execution_count": 8,
     "metadata": {},
     "output_type": "execute_result"
    }
   ],
   "source": [
    "world['World'][0]"
   ]
  },
  {
   "cell_type": "code",
   "execution_count": 9,
   "metadata": {},
   "outputs": [],
   "source": [
    "system_prompt = f\"\"\"You are an AI Game master. Your job is to create a \n",
    "start to an adventure based on the world, island, town and character \n",
    "a player is playing as. \n",
    "Instructions:\n",
    "You must only use 2-4 sentences \\\n",
    "Write in second person. For example: \"You are Jack\" \\\n",
    "Write in present tense. For example \"You stand at...\" \\\n",
    "First describe the character and their backstory. \\\n",
    "Then describes where they start and what they see around them. \n",
    "Write always in spanish.\"\"\"\n",
    "\n",
    "world_info = f\"\"\"\n",
    "World: {world['World'][0]}\n",
    "Island: {world['World'][0]['IslanD1']}\n",
    "Town: {world['World'][0]['IslanD1'][0]['Town1Name']}\n",
    "Your Character: {world['World'][0]['IslanD1'][0]['Char2NameTown1']}\n",
    "Your role: {world['World'][0]['IslanD1'][0]['Char2RoleTown1']}\n",
    "\"\"\""
   ]
  },
  {
   "cell_type": "code",
   "execution_count": 10,
   "metadata": {},
   "outputs": [
    {
     "data": {
      "text/plain": [
       "\"\\nWorld: {'WorldName': 'Mares de la Furia', 'WorldDesc': 'Un mundo donde los piratas y sus barcos dominan el mar', 'IslanD1': [{'Island1Name': 'Isla del Viento', 'Island1Desc': 'Una isla rodeada de fuertes vientos y aguas turbulentas', 'Town1Name': 'Puerto del Viento', 'Town1Desc': 'Un pueblo pequeño pero apasionado, donde los piratas se refugian después de una larga jornada', 'Char1NameTown1': 'Cristina del Mar', 'Char1DescTown1': 'Una navegadora experimentada y astuta', 'Char1RoleTown1': 'Capitana del puerto', 'Char2NameTown1': 'Mateo el Feroz', 'Char2DescTown1': 'Un pirata despiadado y fuerte', 'Char2RoleTown1': 'Líder de los piratas'}]}\\nIsland: [{'Island1Name': 'Isla del Viento', 'Island1Desc': 'Una isla rodeada de fuertes vientos y aguas turbulentas', 'Town1Name': 'Puerto del Viento', 'Town1Desc': 'Un pueblo pequeño pero apasionado, donde los piratas se refugian después de una larga jornada', 'Char1NameTown1': 'Cristina del Mar', 'Char1DescTown1': 'Una navegadora experimentada y astuta', 'Char1RoleTown1': 'Capitana del puerto', 'Char2NameTown1': 'Mateo el Feroz', 'Char2DescTown1': 'Un pirata despiadado y fuerte', 'Char2RoleTown1': 'Líder de los piratas'}]\\nTown: Puerto del Viento\\nYour Character: Mateo el Feroz\\nYour role: Líder de los piratas\\n\""
      ]
     },
     "execution_count": 10,
     "metadata": {},
     "output_type": "execute_result"
    }
   ],
   "source": [
    "world_info"
   ]
  },
  {
   "cell_type": "code",
   "execution_count": 11,
   "metadata": {},
   "outputs": [],
   "source": [
    "messages=[\n",
    "        SystemMessage(content=system_prompt),\n",
    "        HumanMessage( content=world_info + '\\nTu inicio:')\n",
    "    ]"
   ]
  },
  {
   "cell_type": "code",
   "execution_count": 7,
   "metadata": {},
   "outputs": [],
   "source": [
    "local_llm = 'llama3'\n",
    "llm = ChatOllama(model=local_llm, temperature=1)\n",
    "\n",
    "parser = StrOutputParser()\n",
    "\n",
    "chain = llm | parser\n",
    "\n",
    "start=chain.invoke(messages)"
   ]
  },
  {
   "cell_type": "code",
   "execution_count": 13,
   "metadata": {},
   "outputs": [
    {
     "name": "stdout",
     "output_type": "stream",
     "text": [
      "Eres Mateo el Feroz, un pirata despiadado y fuerte. Como líder de los piratas, has llegado a Puerto del Viento después de una larga jornada en el mar. Estás parado en el centro del pequeño pueblo, rodeado por edificios de madera que tiemblan bajo el viento turbulento. Los habitantes del pueblo te miran con temor y respeto, sabiendo que eres uno de los más poderosos piratas en el mar.Mirando a tu alrededor, ves la playa arenosa donde las olas golpean fuerte contra la orilla. Al norte, veo el puerto natural protegido por una pequeña península, donde tus barcos anclan seguro. Al este, un grupo de edificios se levanta en lo alto de la colina, que se cree es la residencia de Cristina del Mar, la capitana del puerto. Al sur, veo el camino que lleva al interior de la isla, rodeada por bosques espesos y ríos turbios\n"
     ]
    }
   ],
   "source": [
    "print(start)\n",
    "world['start'] = start\n",
    "\n",
    "\n"
   ]
  },
  {
   "cell_type": "code",
   "execution_count": 12,
   "metadata": {},
   "outputs": [],
   "source": [
    "start = \"Eres Mateo el Feroz, un pirata despiadado y fuerte. Como líder de los piratas, has llegado a Puerto del Viento después de una larga jornada en el mar. Estás parado en el centro del pequeño pueblo, rodeado por edificios de madera que tiemblan bajo el viento turbulento. Los habitantes del pueblo te miran con temor y respeto, sabiendo que eres uno de los más poderosos piratas en el mar.Mirando a tu alrededor, ves la playa arenosa donde las olas golpean fuerte contra la orilla. Al norte, veo el puerto natural protegido por una pequeña península, donde tus barcos anclan seguro. Al este, un grupo de edificios se levanta en lo alto de la colina, que se cree es la residencia de Cristina del Mar, la capitana del puerto. Al sur, veo el camino que lleva al interior de la isla, rodeada por bosques espesos y ríos turbios\""
   ]
  },
  {
   "cell_type": "markdown",
   "metadata": {},
   "source": [
    "### MAIN ACTION"
   ]
  },
  {
   "cell_type": "code",
   "execution_count": 15,
   "metadata": {},
   "outputs": [],
   "source": [
    "\n",
    "game_state = {\n",
    "    \"world\": world['World'][0]['WorldDesc'],\n",
    "    \"island\": world['World'][0]['IslanD1'][0]['Island1Desc'],\n",
    "    \"town\": world['World'][0]['IslanD1'][0]['Town1Desc'],\n",
    "    \"character\": world['World'][0]['IslanD1'][0]['Char2DescTown1'],\n",
    "    \"start\": start,\n",
    "}\n",
    "system_prompt = \"\"\"You are an AI Game master. Your job is to write what \\\n",
    "happens next in a player's adventure game.\\\n",
    "Instructions: \\\n",
    "You must on only write 1-3 sentences in response. \\\n",
    "Always write in second person present tense. \\\n",
    "Ex. (You look north and see...). Write always in spanish.\"\"\"\n",
    "    \n",
    "world_info = f\"\"\"\n",
    "World: {game_state['world']}\n",
    "Island: {game_state['island']}\n",
    "Town: {game_state['town']}\n",
    "Your Character:  {game_state['character']}\"\"\"\n",
    "\n",
    "memory = []    \n",
    "messages = [\n",
    "        SystemMessage(content=system_prompt),\n",
    "        HumanMessage(content=world_info)\n",
    "    ]\n",
    "memory.append(messages)\n",
    "local_llm = 'llama3'\n",
    "llm = ChatOllama(model=local_llm, temperature=1)\n",
    "parser = StrOutputParser()\n",
    "\n",
    "chain = llm | parser     \n"
   ]
  },
  {
   "cell_type": "code",
   "execution_count": 18,
   "metadata": {},
   "outputs": [
    {
     "name": "stdout",
     "output_type": "stream",
     "text": [
      "Eres Mateo el Feroz, un pirata despiadado y fuerte. Como líder de los piratas, has llegado a Puerto del Viento después de una larga jornada en el mar. Estás parado en el centro del pequeño pueblo, rodeado por edificios de madera que tiemblan bajo el viento turbulento. Los habitantes del pueblo te miran con temor y respeto, sabiendo que eres uno de los más poderosos piratas en el mar.Mirando a tu alrededor, ves la playa arenosa donde las olas golpean fuerte contra la orilla. Al norte, veo el puerto natural protegido por una pequeña península, donde tus barcos anclan seguro. Al este, un grupo de edificios se levanta en lo alto de la colina, que se cree es la residencia de Cristina del Mar, la capitana del puerto. Al sur, veo el camino que lleva al interior de la isla, rodeada por bosques espesos y ríos turbios\n",
      "Escribe \"exit\" para salir\n",
      "\n",
      "Sientes la arena caliente entre los dedos y el viento en tu pelo, mientras oyes el rugir del mar en el horizonte. Ves un barco hundido a lo lejos, con una bandera rota flotando en el agua, y sentís que algo no está bien.\n",
      "Bot:  Sientes la arena caliente entre los dedos y el viento en tu pelo, mientras oyes el rugir del mar en el horizonte. Ves un barco hundido a lo lejos, con una bandera rota flotando en el agua, y sentís que algo no está bien.\n",
      "Subes al costado de un gran barco anclado en la orilla, el capitán te mira con ojos astutos mientras dice: \"¿Eres listo para enfrentar las aguas turbulentas del Canal de los Vientos?\" y señala hacia una isla remota en el horizonte.\n",
      "Bot:  Subes al costado de un gran barco anclado en la orilla, el capitán te mira con ojos astutos mientras dice: \"¿Eres listo para enfrentar las aguas turbulentas del Canal de los Vientos?\" y señala hacia una isla remota en el horizonte.\n",
      "Sacás la carta amarillenta de tu bolsillo y la desdoblas cuidadosamente, revelando un mapa antiguo con rumores de tesoros escondidos en la isla del Tesoro Secreto. Mira el camino hacia la isla que te interesa, pero ve que hay un peligroso acantilado que bloquea el acceso directo al tesoro.\n",
      "Bot:  Sacás la carta amarillenta de tu bolsillo y la desdoblas cuidadosamente, revelando un mapa antiguo con rumores de tesoros escondidos en la isla del Tesoro Secreto. Mira el camino hacia la isla que te interesa, pero ve que hay un peligroso acantilado que bloquea el acceso directo al tesoro.\n"
     ]
    }
   ],
   "source": [
    "print(game_state['start'])\n",
    "print('Escribe \"exit\" para salir\\n')\n",
    "while True:\n",
    "    message = input('Tu: ')\n",
    "    print(\"Tu:\",message)\n",
    "    if message.lower() == 'exit':\n",
    "        break\n",
    "    messages.append({\"role\": \"user\", \"content\": message})\n",
    "    result = chain.invoke(messages)    \n",
    "    messages.append({\"role\": \"assistant\", \"content\": result})\n",
    "    print(\"Bot: \",result)\n",
    "\n",
    "\n"
   ]
  },
  {
   "cell_type": "code",
   "execution_count": null,
   "metadata": {},
   "outputs": [],
   "source": []
  }
 ],
 "metadata": {
  "kernelspec": {
   "display_name": ".venv",
   "language": "python",
   "name": "python3"
  },
  "language_info": {
   "codemirror_mode": {
    "name": "ipython",
    "version": 3
   },
   "file_extension": ".py",
   "mimetype": "text/x-python",
   "name": "python",
   "nbconvert_exporter": "python",
   "pygments_lexer": "ipython3",
   "version": "3.11.9"
  }
 },
 "nbformat": 4,
 "nbformat_minor": 2
}
