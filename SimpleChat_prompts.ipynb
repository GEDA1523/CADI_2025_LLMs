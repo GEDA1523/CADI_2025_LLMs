{
 "cells": [
  {
   "cell_type": "markdown",
   "metadata": {},
   "source": [
    "### Ejemplo con few shot examples\n",
    "\n"
   ]
  },
  {
   "cell_type": "code",
   "execution_count": 37,
   "metadata": {},
   "outputs": [],
   "source": [
    "from langchain_core.messages import HumanMessage, SystemMessage\n",
    "from langchain_ollama import ChatOllama\n",
    "from langchain_core.output_parsers import StrOutputParser\n",
    "from langchain_core.prompts import PromptTemplate, FewShotPromptTemplate\n"
   ]
  },
  {
   "cell_type": "code",
   "execution_count": 27,
   "metadata": {},
   "outputs": [],
   "source": [
    "local_llm = 'llama3'\n",
    "llm = ChatOllama(model=local_llm, temperature=0)"
   ]
  },
  {
   "cell_type": "code",
   "execution_count": null,
   "metadata": {},
   "outputs": [],
   "source": [
    "\n",
    "parser = StrOutputParser()"
   ]
  },
  {
   "cell_type": "code",
   "execution_count": 28,
   "metadata": {},
   "outputs": [],
   "source": [
    "chain1 = llm | parser"
   ]
  },
  {
   "cell_type": "markdown",
   "metadata": {},
   "source": [
    "Analiza la respuesta del modelo sin dar ejemplos del formato de la respuesta:"
   ]
  },
  {
   "cell_type": "code",
   "execution_count": 42,
   "metadata": {},
   "outputs": [
    {
     "data": {
      "text/plain": [
       "'The sentiment of this sentence is POSITIVE. The word \"fantastic\" has a strong positive connotation, indicating that the speaker thoroughly enjoyed the movie and had a very good experience.'"
      ]
     },
     "execution_count": 42,
     "metadata": {},
     "output_type": "execute_result"
    }
   ],
   "source": [
    "chain1.invoke('Classify the sentiment of this sentence:the movie was fantastic!')"
   ]
  },
  {
   "cell_type": "markdown",
   "metadata": {},
   "source": [
    "Ahora creamos un ejemplo de prompt con pregunta/respuesta y un set de ejemplos de respuestas en el formato deseado:"
   ]
  },
  {
   "cell_type": "code",
   "execution_count": 43,
   "metadata": {},
   "outputs": [],
   "source": [
    "example_prompt = PromptTemplate.from_template(\"Question: {question}\\n{answer}\")\n",
    "examples = [\n",
    "    {\n",
    "        \"question\": \"Classify the sentiment of this sentence:the book wasn´t so good as I expected.\",\n",
    "        \"answer\": \"\"\"\n",
    "Sentiment: NEUTRAL/NEGATIVE\n",
    "Do not write any explication please.\n",
    "\"\"\",\n",
    "    },\n",
    "    {\n",
    "        \"question\": \"Classify the sentiment of this sentence:the book was good, I appreciated it\",\n",
    "        \"answer\": \"\"\"\n",
    "Sentiment: POSITIVE\n",
    "Do not write any explication please.\n",
    "\"\"\",\n",
    "    },\n",
    "    {\n",
    "        \"question\": \"Classify the sentiment of this sentence:the book was fantastic!\",\n",
    "        \"answer\": \"\"\"\n",
    "Sentiment: VERY POSITIVE\n",
    "Do not write any explication please.\n",
    "\"\"\",\n",
    "    },\n",
    "    {\n",
    "        \"question\": \"Classify the sentiment of this sentence:the book was horrible!\",\n",
    "        \"answer\": \"\"\"\n",
    "Sentiment: NEGATIVE/VERY NEGATIVE\n",
    "Do not write any explication please.\n",
    "\"\"\",\n",
    "    },\n",
    "]"
   ]
  },
  {
   "cell_type": "markdown",
   "metadata": {},
   "source": [
    "Analiza la respuesta del modelo:"
   ]
  },
  {
   "cell_type": "code",
   "execution_count": 44,
   "metadata": {},
   "outputs": [
    {
     "name": "stdout",
     "output_type": "stream",
     "text": [
      "Sentiment: VERY POSITIVE\n"
     ]
    }
   ],
   "source": [
    "prompt = FewShotPromptTemplate(\n",
    "    examples=examples,\n",
    "    example_prompt=example_prompt,\n",
    "    suffix=\"Question: {input}\",\n",
    "    input_variables=[\"input\"],\n",
    ")\n",
    "\n",
    "chain = prompt | llm | parser\n",
    "print(\n",
    "    chain.invoke({\"input\": \"Classify the sentiment of this sentence:the movie was fantastic!\"})\n",
    ")"
   ]
  }
 ],
 "metadata": {
  "kernelspec": {
   "display_name": "Python 3",
   "language": "python",
   "name": "python3"
  },
  "language_info": {
   "codemirror_mode": {
    "name": "ipython",
    "version": 3
   },
   "file_extension": ".py",
   "mimetype": "text/x-python",
   "name": "python",
   "nbconvert_exporter": "python",
   "pygments_lexer": "ipython3",
   "version": "3.13.0"
  }
 },
 "nbformat": 4,
 "nbformat_minor": 2
}
